{
  "nbformat": 4,
  "nbformat_minor": 0,
  "metadata": {
    "colab": {
      "name": "wave_transfer3.ipynb",
      "provenance": [],
      "collapsed_sections": []
    },
    "kernelspec": {
      "name": "python3",
      "display_name": "Python 3"
    },
    "language_info": {
      "name": "python"
    },
    "accelerator": "GPU"
  },
  "cells": [
    {
      "cell_type": "code",
      "metadata": {
        "id": "JGpe3wqMxdpz"
      },
      "source": [
        ""
      ],
      "execution_count": null,
      "outputs": []
    },
    {
      "cell_type": "code",
      "metadata": {
        "id": "FprEeNmb3Lds"
      },
      "source": [
        "import os\n",
        "\n",
        "os.environ[\"TF_CPP_MIN_LOG_LEVEL\"] = \"2\"\n",
        "import tensorflow as tf\n",
        "import math\n",
        "import tensorflow_hub as hub\n",
        "import numpy as np\n",
        "import matplotlib.pyplot as plt\n",
        "from tensorflow import keras\n",
        "from tensorflow.keras import layers\n",
        "from sklearn.metrics import roc_curve\n",
        "from tensorflow.keras.preprocessing.image import ImageDataGenerator"
      ],
      "execution_count": null,
      "outputs": []
    },
    {
      "cell_type": "code",
      "metadata": {
        "id": "Tsc5EU9H3URh"
      },
      "source": [
        "img_height = 512\n",
        "img_width = 1024\n",
        "batch_size = 8"
      ],
      "execution_count": null,
      "outputs": []
    },
    {
      "cell_type": "code",
      "metadata": {
        "colab": {
          "base_uri": "https://localhost:8080/"
        },
        "id": "MMVGD_IN4DU2",
        "outputId": "2e49b6d4-137b-461b-de6e-ce0171b80429"
      },
      "source": [
        "train_datagen = ImageDataGenerator(\n",
        "    rescale=1.0 / 255,\n",
        "    rotation_range=15,\n",
        "    zoom_range=(0.95, 0.95),\n",
        "    horizontal_flip=True,\n",
        "    vertical_flip=True,\n",
        "    data_format=\"channels_last\",\n",
        "    dtype=tf.float32,\n",
        "    \n",
        ")\n",
        "\n",
        "test_datagen = ImageDataGenerator(rescale=1.0 / 255, dtype=tf.float32)\n",
        "\n",
        "train_gen = train_datagen.flow_from_directory(\n",
        "    '/content/drive/MyDrive/drawings/wave/training',\n",
        "    target_size=(img_height, img_width),\n",
        "    batch_size=batch_size,\n",
        "    color_mode=\"rgb\",\n",
        "    class_mode=\"binary\",\n",
        "    shuffle=True,\n",
        "    seed=123,\n",
        ")\n",
        "\n",
        "\n",
        "test_gen = test_datagen.flow_from_directory(\n",
        "    '/content/drive/MyDrive/drawings/wave/testing/',\n",
        "    target_size=(img_height, img_width),\n",
        "    batch_size=batch_size,\n",
        "    color_mode=\"rgb\",\n",
        "    class_mode=\"binary\",\n",
        "    shuffle=True,\n",
        "    seed=123,\n",
        ")\n",
        "\n"
      ],
      "execution_count": null,
      "outputs": [
        {
          "output_type": "stream",
          "text": [
            "Found 72 images belonging to 2 classes.\n",
            "Found 30 images belonging to 2 classes.\n"
          ],
          "name": "stdout"
        }
      ]
    },
    {
      "cell_type": "code",
      "metadata": {
        "id": "2eI_5ubO5f_m"
      },
      "source": [
        "#https://tfhub.dev/google/imagenet/resnet_v1_50/classification/4 \n",
        "#https://tfhub.dev/google/tf2-preview/inception_v3/classification/4"
      ],
      "execution_count": null,
      "outputs": []
    },
    {
      "cell_type": "code",
      "metadata": {
        "id": "5_sT2I3AdX3d"
      },
      "source": [
        "url = \"https://tfhub.dev/google/imagenet/resnet_v1_50/classification/4\"\n",
        "\n",
        "base_model = hub.KerasLayer(url, input_shape=(img_height, img_width, 3))\n",
        "wave_model = keras.Sequential(\n",
        "    [\n",
        "        base_model,\n",
        "        layers.Dense(128, activation=\"relu\", kernel_regularizer=keras.regularizers.l2(0.001)),\n",
        "        keras.layers.Dropout(0.3),\n",
        "        layers.Dense(64, activation=\"relu\", kernel_regularizer=keras.regularizers.l2(0.001)),\n",
        "        keras.layers.Dropout(0.3),\n",
        "        layers.Dense(1,  activation=\"sigmoid\"),\n",
        "    ]\n",
        ")\n"
      ],
      "execution_count": null,
      "outputs": []
    },
    {
      "cell_type": "code",
      "metadata": {
        "id": "iBfIaKC1i_yf",
        "colab": {
          "base_uri": "https://localhost:8080/"
        },
        "outputId": "6b6c2677-4879-492b-fea5-94f6d1e8ecb6"
      },
      "source": [
        "wave_model.summary()"
      ],
      "execution_count": null,
      "outputs": [
        {
          "output_type": "stream",
          "text": [
            "Model: \"sequential\"\n",
            "_________________________________________________________________\n",
            "Layer (type)                 Output Shape              Param #   \n",
            "=================================================================\n",
            "keras_layer (KerasLayer)     (None, 1001)              25612201  \n",
            "_________________________________________________________________\n",
            "dense (Dense)                (None, 128)               128256    \n",
            "_________________________________________________________________\n",
            "dropout (Dropout)            (None, 128)               0         \n",
            "_________________________________________________________________\n",
            "dense_1 (Dense)              (None, 64)                8256      \n",
            "_________________________________________________________________\n",
            "dropout_1 (Dropout)          (None, 64)                0         \n",
            "_________________________________________________________________\n",
            "dense_2 (Dense)              (None, 1)                 65        \n",
            "=================================================================\n",
            "Total params: 25,748,778\n",
            "Trainable params: 136,577\n",
            "Non-trainable params: 25,612,201\n",
            "_________________________________________________________________\n"
          ],
          "name": "stdout"
        }
      ]
    },
    {
      "cell_type": "code",
      "metadata": {
        "id": "PG9KJcdfUrm-"
      },
      "source": [
        "METRICS = [\n",
        "    keras.metrics.BinaryAccuracy(name=\"accuracy\"),\n",
        "    keras.metrics.Precision(name=\"precision\"),\n",
        "    keras.metrics.Recall(name=\"recall\"),\n",
        "    keras.metrics.AUC(name=\"auc\")\n",
        "]"
      ],
      "execution_count": null,
      "outputs": []
    },
    {
      "cell_type": "code",
      "metadata": {
        "id": "MtLd56_o5Ks7"
      },
      "source": [
        "\n",
        "\n",
        "wave_model.compile(\n",
        "    optimizer=keras.optimizers.Adam(lr=3e-4),\n",
        "    loss=[keras.losses.BinaryCrossentropy(from_logits=False)],\n",
        "    metrics=METRICS,\n",
        ")"
      ],
      "execution_count": null,
      "outputs": []
    },
    {
      "cell_type": "code",
      "metadata": {
        "id": "TVF2ji0TiiYv"
      },
      "source": [
        "def plot_history(history):\n",
        "    \"\"\"Plots accuracy/loss for training/validation set as a function of the epochs\n",
        "        :param history: Training history of model\n",
        "        :return:\n",
        "    \"\"\"\n",
        "\n",
        "    fig, axs = plt.subplots(2)\n",
        "\n",
        "    # create accuracy sublpot\n",
        "    axs[0].plot(history.history[\"accuracy\"], label=\"train accuracy\")\n",
        "    axs[0].plot(history.history[\"val_accuracy\"], label=\"test accuracy\")\n",
        "    axs[0].set_ylabel(\"Accuracy\")\n",
        "    axs[0].legend(loc=\"lower right\")\n",
        "    #axs[0].set_title(\"Accuracy eval\")\n",
        "    # create error sublpot\n",
        "    axs[1].plot(history.history[\"loss\"], label=\"train error\")\n",
        "    axs[1].plot(history.history[\"val_loss\"], label=\"test error\")\n",
        "    axs[1].set_ylabel(\"Error\")\n",
        "    axs[1].set_xlabel(\"Epoch\")\n",
        "    axs[1].legend(loc=\"upper right\")\n",
        "    #axs[1].set_title(\"Error eval\")\n",
        "\n",
        "    plt.show()\n"
      ],
      "execution_count": null,
      "outputs": []
    },
    {
      "cell_type": "code",
      "metadata": {
        "colab": {
          "base_uri": "https://localhost:8080/"
        },
        "id": "OJyN_y5C56U1",
        "outputId": "8b6e1925-afac-45da-d9ed-9bef01f64147"
      },
      "source": [
        "cb = [tf.keras.callbacks.EarlyStopping(monitor='val_accuracy', patience=30)]\n",
        "\n",
        "history = wave_model.fit(\n",
        "    train_gen,\n",
        "    epochs=150,\n",
        "    verbose=2,\n",
        "    validation_data=test_gen,\n",
        "    callbacks=cb\n",
        ")"
      ],
      "execution_count": null,
      "outputs": [
        {
          "output_type": "stream",
          "text": [
            "Epoch 1/150\n",
            "9/9 - 63s - loss: 1.1051 - accuracy: 0.5556 - precision: 0.5500 - recall: 0.6111 - auc: 0.5718 - val_loss: 0.8738 - val_accuracy: 0.6667 - val_precision: 0.7778 - val_recall: 0.4667 - val_auc: 0.8289\n",
            "Epoch 2/150\n",
            "9/9 - 9s - loss: 1.0057 - accuracy: 0.5972 - precision: 0.5854 - recall: 0.6667 - auc: 0.6493 - val_loss: 0.7152 - val_accuracy: 0.8333 - val_precision: 0.8125 - val_recall: 0.8667 - val_auc: 0.9289\n",
            "Epoch 3/150\n",
            "9/9 - 9s - loss: 0.8607 - accuracy: 0.7361 - precision: 0.7742 - recall: 0.6667 - auc: 0.7809 - val_loss: 0.6692 - val_accuracy: 0.8667 - val_precision: 0.9231 - val_recall: 0.8000 - val_auc: 0.9244\n",
            "Epoch 4/150\n",
            "9/9 - 9s - loss: 0.7143 - accuracy: 0.8333 - precision: 0.8333 - recall: 0.8333 - auc: 0.8954 - val_loss: 0.6261 - val_accuracy: 0.8333 - val_precision: 0.8125 - val_recall: 0.8667 - val_auc: 0.9467\n",
            "Epoch 5/150\n",
            "9/9 - 9s - loss: 0.6711 - accuracy: 0.8472 - precision: 0.8378 - recall: 0.8611 - auc: 0.9140 - val_loss: 0.6736 - val_accuracy: 0.8000 - val_precision: 0.7368 - val_recall: 0.9333 - val_auc: 0.9467\n",
            "Epoch 6/150\n",
            "9/9 - 9s - loss: 0.7419 - accuracy: 0.7917 - precision: 0.7442 - recall: 0.8889 - auc: 0.8762 - val_loss: 0.5869 - val_accuracy: 0.9333 - val_precision: 1.0000 - val_recall: 0.8667 - val_auc: 0.9467\n",
            "Epoch 7/150\n",
            "9/9 - 9s - loss: 0.6201 - accuracy: 0.8750 - precision: 0.9355 - recall: 0.8056 - auc: 0.9213 - val_loss: 0.5914 - val_accuracy: 0.8333 - val_precision: 0.8125 - val_recall: 0.8667 - val_auc: 0.9467\n",
            "Epoch 8/150\n",
            "9/9 - 9s - loss: 0.7455 - accuracy: 0.7639 - precision: 0.7879 - recall: 0.7222 - auc: 0.8565 - val_loss: 0.6134 - val_accuracy: 0.8000 - val_precision: 0.7647 - val_recall: 0.8667 - val_auc: 0.9378\n",
            "Epoch 9/150\n",
            "9/9 - 10s - loss: 0.6366 - accuracy: 0.8472 - precision: 0.8788 - recall: 0.8056 - auc: 0.9163 - val_loss: 0.6088 - val_accuracy: 0.8000 - val_precision: 0.7647 - val_recall: 0.8667 - val_auc: 0.9444\n",
            "Epoch 10/150\n",
            "9/9 - 10s - loss: 0.6560 - accuracy: 0.8194 - precision: 0.7949 - recall: 0.8611 - auc: 0.9082 - val_loss: 0.5780 - val_accuracy: 0.8333 - val_precision: 0.8125 - val_recall: 0.8667 - val_auc: 0.9444\n",
            "Epoch 11/150\n",
            "9/9 - 9s - loss: 0.6415 - accuracy: 0.8194 - precision: 0.8286 - recall: 0.8056 - auc: 0.9163 - val_loss: 0.5725 - val_accuracy: 0.8333 - val_precision: 0.8125 - val_recall: 0.8667 - val_auc: 0.9511\n",
            "Epoch 12/150\n",
            "9/9 - 9s - loss: 0.5964 - accuracy: 0.9167 - precision: 0.8947 - recall: 0.9444 - auc: 0.9460 - val_loss: 0.5444 - val_accuracy: 0.8333 - val_precision: 0.8125 - val_recall: 0.8667 - val_auc: 0.9556\n",
            "Epoch 13/150\n",
            "9/9 - 9s - loss: 0.6942 - accuracy: 0.8472 - precision: 0.8571 - recall: 0.8333 - auc: 0.8897 - val_loss: 0.5503 - val_accuracy: 0.8333 - val_precision: 0.8125 - val_recall: 0.8667 - val_auc: 0.9489\n",
            "Epoch 14/150\n",
            "9/9 - 9s - loss: 0.5555 - accuracy: 0.8611 - precision: 0.8611 - recall: 0.8611 - auc: 0.9495 - val_loss: 0.5837 - val_accuracy: 0.8333 - val_precision: 0.7778 - val_recall: 0.9333 - val_auc: 0.9467\n",
            "Epoch 15/150\n",
            "9/9 - 9s - loss: 0.5291 - accuracy: 0.8611 - precision: 0.9062 - recall: 0.8056 - auc: 0.9699 - val_loss: 0.5856 - val_accuracy: 0.8000 - val_precision: 0.7368 - val_recall: 0.9333 - val_auc: 0.9511\n",
            "Epoch 16/150\n",
            "9/9 - 9s - loss: 0.5984 - accuracy: 0.8333 - precision: 0.8333 - recall: 0.8333 - auc: 0.9375 - val_loss: 0.5684 - val_accuracy: 0.8667 - val_precision: 0.8235 - val_recall: 0.9333 - val_auc: 0.9511\n",
            "Epoch 17/150\n",
            "9/9 - 9s - loss: 0.5484 - accuracy: 0.8889 - precision: 0.8889 - recall: 0.8889 - auc: 0.9533 - val_loss: 0.5469 - val_accuracy: 0.8333 - val_precision: 0.8125 - val_recall: 0.8667 - val_auc: 0.9489\n",
            "Epoch 18/150\n",
            "9/9 - 9s - loss: 0.5900 - accuracy: 0.8472 - precision: 0.8788 - recall: 0.8056 - auc: 0.9313 - val_loss: 0.5443 - val_accuracy: 0.8333 - val_precision: 0.8125 - val_recall: 0.8667 - val_auc: 0.9511\n",
            "Epoch 19/150\n",
            "9/9 - 9s - loss: 0.5417 - accuracy: 0.8472 - precision: 0.8378 - recall: 0.8611 - auc: 0.9649 - val_loss: 0.5989 - val_accuracy: 0.8333 - val_precision: 0.7778 - val_recall: 0.9333 - val_auc: 0.9600\n",
            "Epoch 20/150\n",
            "9/9 - 9s - loss: 0.4956 - accuracy: 0.8889 - precision: 0.9118 - recall: 0.8611 - auc: 0.9657 - val_loss: 0.5128 - val_accuracy: 0.8667 - val_precision: 0.9231 - val_recall: 0.8000 - val_auc: 0.9556\n",
            "Epoch 21/150\n",
            "9/9 - 9s - loss: 0.5336 - accuracy: 0.8472 - precision: 0.8571 - recall: 0.8333 - auc: 0.9576 - val_loss: 0.5753 - val_accuracy: 0.8333 - val_precision: 0.7778 - val_recall: 0.9333 - val_auc: 0.9644\n",
            "Epoch 22/150\n",
            "9/9 - 9s - loss: 0.4764 - accuracy: 0.9167 - precision: 0.9167 - recall: 0.9167 - auc: 0.9722 - val_loss: 0.5106 - val_accuracy: 0.9000 - val_precision: 0.8750 - val_recall: 0.9333 - val_auc: 0.9622\n",
            "Epoch 23/150\n",
            "9/9 - 9s - loss: 0.5067 - accuracy: 0.9028 - precision: 0.9143 - recall: 0.8889 - auc: 0.9587 - val_loss: 0.5306 - val_accuracy: 0.8333 - val_precision: 0.7778 - val_recall: 0.9333 - val_auc: 0.9600\n",
            "Epoch 24/150\n",
            "9/9 - 9s - loss: 0.4718 - accuracy: 0.9167 - precision: 0.8947 - recall: 0.9444 - auc: 0.9734 - val_loss: 0.5553 - val_accuracy: 0.8333 - val_precision: 0.7778 - val_recall: 0.9333 - val_auc: 0.9533\n",
            "Epoch 25/150\n",
            "9/9 - 9s - loss: 0.4975 - accuracy: 0.9167 - precision: 0.9412 - recall: 0.8889 - auc: 0.9653 - val_loss: 0.5149 - val_accuracy: 0.8667 - val_precision: 0.8235 - val_recall: 0.9333 - val_auc: 0.9600\n",
            "Epoch 26/150\n",
            "9/9 - 9s - loss: 0.5220 - accuracy: 0.8889 - precision: 0.8889 - recall: 0.8889 - auc: 0.9603 - val_loss: 0.4908 - val_accuracy: 0.8667 - val_precision: 0.8235 - val_recall: 0.9333 - val_auc: 0.9644\n",
            "Epoch 27/150\n",
            "9/9 - 9s - loss: 0.5096 - accuracy: 0.9167 - precision: 0.9412 - recall: 0.8889 - auc: 0.9583 - val_loss: 0.5736 - val_accuracy: 0.8000 - val_precision: 0.7368 - val_recall: 0.9333 - val_auc: 0.9644\n",
            "Epoch 28/150\n",
            "9/9 - 9s - loss: 0.4450 - accuracy: 0.9444 - precision: 0.9706 - recall: 0.9167 - auc: 0.9846 - val_loss: 0.4856 - val_accuracy: 0.9000 - val_precision: 0.8750 - val_recall: 0.9333 - val_auc: 0.9644\n",
            "Epoch 29/150\n",
            "9/9 - 9s - loss: 0.4112 - accuracy: 0.9306 - precision: 0.9697 - recall: 0.8889 - auc: 0.9938 - val_loss: 0.4844 - val_accuracy: 0.8667 - val_precision: 0.8235 - val_recall: 0.9333 - val_auc: 0.9600\n",
            "Epoch 30/150\n",
            "9/9 - 9s - loss: 0.4608 - accuracy: 0.8889 - precision: 0.9118 - recall: 0.8611 - auc: 0.9769 - val_loss: 0.4842 - val_accuracy: 0.8667 - val_precision: 0.8235 - val_recall: 0.9333 - val_auc: 0.9600\n",
            "Epoch 31/150\n",
            "9/9 - 9s - loss: 0.4356 - accuracy: 0.9306 - precision: 0.9697 - recall: 0.8889 - auc: 0.9807 - val_loss: 0.5730 - val_accuracy: 0.8000 - val_precision: 0.7368 - val_recall: 0.9333 - val_auc: 0.9600\n",
            "Epoch 32/150\n",
            "9/9 - 9s - loss: 0.4473 - accuracy: 0.9167 - precision: 0.8947 - recall: 0.9444 - auc: 0.9792 - val_loss: 0.5044 - val_accuracy: 0.8667 - val_precision: 0.8235 - val_recall: 0.9333 - val_auc: 0.9600\n",
            "Epoch 33/150\n",
            "9/9 - 9s - loss: 0.4212 - accuracy: 0.9444 - precision: 0.9706 - recall: 0.9167 - auc: 0.9892 - val_loss: 0.5064 - val_accuracy: 0.8667 - val_precision: 0.8235 - val_recall: 0.9333 - val_auc: 0.9556\n",
            "Epoch 34/150\n",
            "9/9 - 9s - loss: 0.4020 - accuracy: 0.9444 - precision: 0.9444 - recall: 0.9444 - auc: 0.9892 - val_loss: 0.4730 - val_accuracy: 0.8667 - val_precision: 0.8235 - val_recall: 0.9333 - val_auc: 0.9644\n",
            "Epoch 35/150\n",
            "9/9 - 9s - loss: 0.4495 - accuracy: 0.9167 - precision: 0.8947 - recall: 0.9444 - auc: 0.9819 - val_loss: 0.5130 - val_accuracy: 0.8333 - val_precision: 0.7778 - val_recall: 0.9333 - val_auc: 0.9733\n",
            "Epoch 36/150\n",
            "9/9 - 9s - loss: 0.4286 - accuracy: 0.9444 - precision: 0.9706 - recall: 0.9167 - auc: 0.9799 - val_loss: 0.4663 - val_accuracy: 0.9333 - val_precision: 0.9333 - val_recall: 0.9333 - val_auc: 0.9733\n"
          ],
          "name": "stdout"
        }
      ]
    },
    {
      "cell_type": "code",
      "metadata": {
        "colab": {
          "base_uri": "https://localhost:8080/",
          "height": 279
        },
        "id": "jniL_SlfiliT",
        "outputId": "79c2bbfd-794e-4cdd-b0ee-5b5fe353e413"
      },
      "source": [
        "plot_history(history)"
      ],
      "execution_count": null,
      "outputs": [
        {
          "output_type": "display_data",
          "data": {
            "image/png": "[encoded data removed]",
            "text/plain": [
              "<Figure size 432x288 with 2 Axes>"
            ]
          },
          "metadata": {
            "tags": [],
            "needs_background": "light"
          }
        }
      ]
    },
    {
      "cell_type": "code",
      "metadata": {
        "colab": {
          "base_uri": "https://localhost:8080/"
        },
        "id": "RKthLx3t6Iuj",
        "outputId": "492dc188-5e63-4a4d-a863-de492569ff5d"
      },
      "source": [
        "\n",
        "wave_model.evaluate(test_gen, verbose=2)\n"
      ],
      "execution_count": null,
      "outputs": [
        {
          "output_type": "stream",
          "text": [
            "4/4 - 1s - loss: 0.4663 - accuracy: 0.9333 - precision: 0.9333 - recall: 0.9333 - auc: 0.9733\n"
          ],
          "name": "stdout"
        },
        {
          "output_type": "execute_result",
          "data": {
            "text/plain": [
              "[0.46632084250450134,\n",
              " 0.9333333373069763,\n",
              " 0.9333333373069763,\n",
              " 0.9333333373069763,\n",
              " 0.9733333587646484]"
            ]
          },
          "metadata": {
            "tags": []
          },
          "execution_count": 13
        }
      ]
    },
    {
      "cell_type": "code",
      "metadata": {
        "id": "v4bixct9x2aX",
        "colab": {
          "base_uri": "https://localhost:8080/"
        },
        "outputId": "72b65553-0cf8-44ba-babc-6678fe0166b7"
      },
      "source": [
        "wave_model.evaluate(train_gen, verbose=2)"
      ],
      "execution_count": null,
      "outputs": [
        {
          "output_type": "stream",
          "text": [
            "9/9 - 8s - loss: 0.4173 - accuracy: 0.9306 - precision: 1.0000 - recall: 0.8611 - auc: 0.9880\n"
          ],
          "name": "stdout"
        },
        {
          "output_type": "execute_result",
          "data": {
            "text/plain": [
              "[0.4172763526439667,\n",
              " 0.9305555820465088,\n",
              " 1.0,\n",
              " 0.8611111044883728,\n",
              " 0.9880400896072388]"
            ]
          },
          "metadata": {
            "tags": []
          },
          "execution_count": 14
        }
      ]
    },
    {
      "cell_type": "code",
      "metadata": {
        "id": "kWoMJz2vwXhs",
        "colab": {
          "base_uri": "https://localhost:8080/"
        },
        "outputId": "9ab6ffb7-834e-4581-d01e-345e1cf6be6a"
      },
      "source": [
        "#wave_model.save('/content/drive/MyDrive/saved_models/wave_saved_model/model1024')"
      ],
      "execution_count": null,
      "outputs": [
        {
          "output_type": "stream",
          "text": [
            "INFO:tensorflow:Assets written to: /content/drive/MyDrive/saved_models/wave_saved_model/model1024/assets\n"
          ],
          "name": "stdout"
        },
        {
          "output_type": "stream",
          "text": [
            "INFO:tensorflow:Assets written to: /content/drive/MyDrive/saved_models/wave_saved_model/model1024/assets\n"
          ],
          "name": "stderr"
        }
      ]
    },
    {
      "cell_type": "code",
      "metadata": {
        "id": "rebw4CA1DfEN"
      },
      "source": [
        ""
      ],
      "execution_count": null,
      "outputs": []
    }
  ]
}