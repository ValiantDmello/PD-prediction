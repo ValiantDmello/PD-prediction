{
  "nbformat": 4,
  "nbformat_minor": 0,
  "metadata": {
    "colab": {
      "name": "Spiral_transfer3.ipynb",
      "provenance": [],
      "collapsed_sections": []
    },
    "kernelspec": {
      "name": "python3",
      "display_name": "Python 3"
    },
    "accelerator": "GPU"
  },
  "cells": [
    {
      "cell_type": "code",
      "metadata": {
        "id": "jPWdtEDUsXOp"
      },
      "source": [
        "import os\n",
        "\n",
        "os.environ[\"TF_CPP_MIN_LOG_LEVEL\"] = \"2\"\n",
        "import tensorflow as tf\n",
        "import math\n",
        "import tensorflow_hub as hub\n",
        "import numpy as np\n",
        "import matplotlib.pyplot as plt\n",
        "from tensorflow import keras\n",
        "from tensorflow.keras import layers\n",
        "from sklearn.metrics import roc_curve\n",
        "from tensorflow.keras.preprocessing.image import ImageDataGenerator"
      ],
      "execution_count": null,
      "outputs": []
    },
    {
      "cell_type": "code",
      "metadata": {
        "id": "Tsc5EU9H3URh"
      },
      "source": [
        "img_height = 256\n",
        "img_width = 256\n",
        "batch_size = 32"
      ],
      "execution_count": null,
      "outputs": []
    },
    {
      "cell_type": "code",
      "metadata": {
        "colab": {
          "base_uri": "https://localhost:8080/"
        },
        "id": "MMVGD_IN4DU2",
        "outputId": "849ae327-1143-4734-b46e-b52f8be04436"
      },
      "source": [
        "train_datagen = ImageDataGenerator(\n",
        "    rescale=1.0 / 255,\n",
        "    rotation_range=15,\n",
        "    zoom_range=(0.95, 0.95),\n",
        "    horizontal_flip=True,\n",
        "    vertical_flip=True,\n",
        "    data_format=\"channels_last\",\n",
        "    dtype=tf.float32,\n",
        "    \n",
        ")\n",
        "\n",
        "test_datagen = ImageDataGenerator(rescale=1.0 / 255, dtype=tf.float32)\n",
        "\n",
        "train_gen = train_datagen.flow_from_directory(\n",
        "    '/content/drive/MyDrive/drawings/spiral/training',\n",
        "    target_size=(img_height, img_width),\n",
        "    batch_size=batch_size,\n",
        "    color_mode=\"rgb\",\n",
        "    class_mode=\"binary\",\n",
        "    shuffle=True,\n",
        "    seed=123,\n",
        ")\n",
        "\n",
        "\n",
        "test_gen = test_datagen.flow_from_directory(\n",
        "    '/content/drive/MyDrive/drawings/spiral/testing',\n",
        "    target_size=(img_height, img_width),\n",
        "    batch_size=batch_size,\n",
        "    color_mode=\"rgb\",\n",
        "    class_mode=\"binary\",\n",
        "    shuffle=True,\n",
        "    seed=123,\n",
        ")\n",
        "\n"
      ],
      "execution_count": null,
      "outputs": [
        {
          "output_type": "stream",
          "text": [
            "Found 72 images belonging to 2 classes.\n",
            "Found 30 images belonging to 2 classes.\n"
          ],
          "name": "stdout"
        }
      ]
    },
    {
      "cell_type": "code",
      "metadata": {
        "id": "2eI_5ubO5f_m"
      },
      "source": [
        "#https://tfhub.dev/google/imagenet/resnet_v1_50/classification/4 \n",
        "#https://tfhub.dev/google/tf2-preview/inception_v3/classification/4"
      ],
      "execution_count": null,
      "outputs": []
    },
    {
      "cell_type": "code",
      "metadata": {
        "id": "5_sT2I3AdX3d"
      },
      "source": [
        "url = \"https://tfhub.dev/google/imagenet/resnet_v1_50/classification/4\"\n",
        "\n",
        "base_model = hub.KerasLayer(url, input_shape=(img_height, img_width, 3))\n",
        "wave_model = keras.Sequential(\n",
        "    [\n",
        "        base_model,\n",
        "        layers.Dense(128, activation=\"relu\", kernel_regularizer=keras.regularizers.l2(0.001)),\n",
        "        keras.layers.Dropout(0.3),\n",
        "        layers.Dense(64, activation=\"relu\", kernel_regularizer=keras.regularizers.l2(0.001)),\n",
        "        keras.layers.Dropout(0.3),\n",
        "        layers.Dense(1,  activation=\"sigmoid\"),\n",
        "    ]\n",
        ")\n"
      ],
      "execution_count": null,
      "outputs": []
    },
    {
      "cell_type": "code",
      "metadata": {
        "id": "iBfIaKC1i_yf",
        "colab": {
          "base_uri": "https://localhost:8080/"
        },
        "outputId": "4e7635ff-d42b-4499-8a0c-2ab9ce007e85"
      },
      "source": [
        "wave_model.summary()"
      ],
      "execution_count": null,
      "outputs": [
        {
          "output_type": "stream",
          "text": [
            "Model: \"sequential\"\n",
            "_________________________________________________________________\n",
            "Layer (type)                 Output Shape              Param #   \n",
            "=================================================================\n",
            "keras_layer (KerasLayer)     (None, 1001)              25612201  \n",
            "_________________________________________________________________\n",
            "dense (Dense)                (None, 128)               128256    \n",
            "_________________________________________________________________\n",
            "dropout (Dropout)            (None, 128)               0         \n",
            "_________________________________________________________________\n",
            "dense_1 (Dense)              (None, 64)                8256      \n",
            "_________________________________________________________________\n",
            "dropout_1 (Dropout)          (None, 64)                0         \n",
            "_________________________________________________________________\n",
            "dense_2 (Dense)              (None, 1)                 65        \n",
            "=================================================================\n",
            "Total params: 25,748,778\n",
            "Trainable params: 136,577\n",
            "Non-trainable params: 25,612,201\n",
            "_________________________________________________________________\n"
          ],
          "name": "stdout"
        }
      ]
    },
    {
      "cell_type": "code",
      "metadata": {
        "id": "PG9KJcdfUrm-"
      },
      "source": [
        "METRICS = [\n",
        "    keras.metrics.BinaryAccuracy(name=\"accuracy\"),\n",
        "    keras.metrics.Precision(name=\"precision\"),\n",
        "    keras.metrics.Recall(name=\"recall\"),\n",
        "    keras.metrics.AUC(name=\"auc\")\n",
        "]"
      ],
      "execution_count": null,
      "outputs": []
    },
    {
      "cell_type": "code",
      "metadata": {
        "id": "MtLd56_o5Ks7"
      },
      "source": [
        "\n",
        "\n",
        "wave_model.compile(\n",
        "    optimizer=keras.optimizers.Adam(lr=3e-4),\n",
        "    loss=[keras.losses.BinaryCrossentropy(from_logits=False)],\n",
        "    metrics=METRICS,\n",
        ")"
      ],
      "execution_count": null,
      "outputs": []
    },
    {
      "cell_type": "code",
      "metadata": {
        "id": "TVF2ji0TiiYv"
      },
      "source": [
        "def plot_history(history):\n",
        "    \"\"\"Plots accuracy/loss for training/validation set as a function of the epochs\n",
        "        :param history: Training history of model\n",
        "        :return:\n",
        "    \"\"\"\n",
        "\n",
        "    fig, axs = plt.subplots(2)\n",
        "\n",
        "    # create accuracy sublpot\n",
        "    axs[0].plot(history.history[\"accuracy\"], label=\"train accuracy\")\n",
        "    axs[0].plot(history.history[\"val_accuracy\"], label=\"test accuracy\")\n",
        "    axs[0].set_ylabel(\"Accuracy\")\n",
        "    axs[0].legend(loc=\"lower right\")\n",
        "    #axs[0].set_title(\"Accuracy eval\")\n",
        "\n",
        "    # create error sublpot\n",
        "    axs[1].plot(history.history[\"loss\"], label=\"train error\")\n",
        "    axs[1].plot(history.history[\"val_loss\"], label=\"test error\")\n",
        "    axs[1].set_ylabel(\"Error\")\n",
        "    axs[1].set_xlabel(\"Epoch\")\n",
        "    axs[1].legend(loc=\"upper right\")\n",
        "    #axs[1].set_title(\"Error eval\")\n",
        "\n",
        "    plt.show()\n"
      ],
      "execution_count": null,
      "outputs": []
    },
    {
      "cell_type": "code",
      "metadata": {
        "colab": {
          "base_uri": "https://localhost:8080/"
        },
        "id": "OJyN_y5C56U1",
        "outputId": "57a0c450-e8d5-4a05-95cb-6a5c5228ca34"
      },
      "source": [
        "cb = [tf.keras.callbacks.EarlyStopping(monitor='val_accuracy', patience=10, restore_best_weights = True)]\n",
        "\n",
        "history = wave_model.fit(\n",
        "    train_gen,\n",
        "    epochs=60,\n",
        "    verbose=2,\n",
        "    validation_data=test_gen,\n",
        "    callbacks=cb\n",
        ")"
      ],
      "execution_count": null,
      "outputs": [
        {
          "output_type": "stream",
          "text": [
            "Epoch 1/60\n",
            "1/1 - 2s - loss: 0.8713 - accuracy: 0.7083 - precision: 0.7778 - recall: 0.5833 - auc: 0.8048 - val_loss: 0.8083 - val_accuracy: 0.7667 - val_precision: 0.8333 - val_recall: 0.6667 - val_auc: 0.8378\n",
            "Epoch 2/60\n",
            "1/1 - 1s - loss: 0.8790 - accuracy: 0.7500 - precision: 0.8214 - recall: 0.6389 - auc: 0.7994 - val_loss: 0.7990 - val_accuracy: 0.7667 - val_precision: 0.8333 - val_recall: 0.6667 - val_auc: 0.8378\n",
            "Epoch 3/60\n",
            "1/1 - 1s - loss: 0.7979 - accuracy: 0.7917 - precision: 0.8387 - recall: 0.7222 - auc: 0.8522 - val_loss: 0.7940 - val_accuracy: 0.7667 - val_precision: 0.8333 - val_recall: 0.6667 - val_auc: 0.8333\n",
            "Epoch 4/60\n",
            "1/1 - 1s - loss: 0.7925 - accuracy: 0.7222 - precision: 0.7105 - recall: 0.7500 - auc: 0.8329 - val_loss: 0.7939 - val_accuracy: 0.8000 - val_precision: 0.8462 - val_recall: 0.7333 - val_auc: 0.8356\n",
            "Epoch 5/60\n",
            "1/1 - 1s - loss: 0.8730 - accuracy: 0.7500 - precision: 0.7368 - recall: 0.7778 - auc: 0.8005 - val_loss: 0.7948 - val_accuracy: 0.8000 - val_precision: 0.8462 - val_recall: 0.7333 - val_auc: 0.8444\n",
            "Epoch 6/60\n",
            "1/1 - 1s - loss: 0.7707 - accuracy: 0.7917 - precision: 0.8000 - recall: 0.7778 - auc: 0.8584 - val_loss: 0.7969 - val_accuracy: 0.8000 - val_precision: 0.8000 - val_recall: 0.8000 - val_auc: 0.8533\n",
            "Epoch 7/60\n",
            "1/1 - 1s - loss: 0.7791 - accuracy: 0.8056 - precision: 0.7895 - recall: 0.8333 - auc: 0.8499 - val_loss: 0.7969 - val_accuracy: 0.7667 - val_precision: 0.7500 - val_recall: 0.8000 - val_auc: 0.8578\n",
            "Epoch 8/60\n",
            "1/1 - 1s - loss: 0.7888 - accuracy: 0.7361 - precision: 0.7297 - recall: 0.7500 - auc: 0.8295 - val_loss: 0.7981 - val_accuracy: 0.8000 - val_precision: 0.8000 - val_recall: 0.8000 - val_auc: 0.8556\n",
            "Epoch 9/60\n",
            "1/1 - 1s - loss: 0.7496 - accuracy: 0.7639 - precision: 0.7209 - recall: 0.8611 - auc: 0.8677 - val_loss: 0.7968 - val_accuracy: 0.8000 - val_precision: 0.8000 - val_recall: 0.8000 - val_auc: 0.8511\n",
            "Epoch 10/60\n",
            "1/1 - 1s - loss: 0.7976 - accuracy: 0.7222 - precision: 0.6905 - recall: 0.8056 - auc: 0.8372 - val_loss: 0.7957 - val_accuracy: 0.7667 - val_precision: 0.8333 - val_recall: 0.6667 - val_auc: 0.8444\n",
            "Epoch 11/60\n",
            "1/1 - 1s - loss: 0.7433 - accuracy: 0.7639 - precision: 0.7714 - recall: 0.7500 - auc: 0.8750 - val_loss: 0.7966 - val_accuracy: 0.7667 - val_precision: 0.8333 - val_recall: 0.6667 - val_auc: 0.8467\n",
            "Epoch 12/60\n",
            "1/1 - 1s - loss: 0.7211 - accuracy: 0.8056 - precision: 0.8235 - recall: 0.7778 - auc: 0.8819 - val_loss: 0.7984 - val_accuracy: 0.7333 - val_precision: 0.8182 - val_recall: 0.6000 - val_auc: 0.8400\n",
            "Epoch 13/60\n",
            "1/1 - 1s - loss: 0.7990 - accuracy: 0.7222 - precision: 0.7222 - recall: 0.7222 - auc: 0.8322 - val_loss: 0.8013 - val_accuracy: 0.7667 - val_precision: 0.9000 - val_recall: 0.6000 - val_auc: 0.8400\n",
            "Epoch 14/60\n",
            "1/1 - 1s - loss: 0.8251 - accuracy: 0.6806 - precision: 0.6757 - recall: 0.6944 - auc: 0.8067 - val_loss: 0.8051 - val_accuracy: 0.7667 - val_precision: 0.9000 - val_recall: 0.6000 - val_auc: 0.8533\n"
          ],
          "name": "stdout"
        }
      ]
    },
    {
      "cell_type": "code",
      "metadata": {
        "id": "jniL_SlfiliT",
        "colab": {
          "base_uri": "https://localhost:8080/",
          "height": 282
        },
        "outputId": "836f3904-be33-44cb-a952-472c002b4235"
      },
      "source": [
        "plot_history(history)"
      ],
      "execution_count": null,
      "outputs": [
        {
          "output_type": "display_data",
          "data": {
            "image/png": "[encoded data removed]",
            "text/plain": [
              "<Figure size 432x288 with 2 Axes>"
            ]
          },
          "metadata": {
            "tags": [],
            "needs_background": "light"
          }
        }
      ]
    },
    {
      "cell_type": "code",
      "metadata": {
        "colab": {
          "base_uri": "https://localhost:8080/"
        },
        "id": "GMva1DLzgoPE",
        "outputId": "0fd2df04-2f61-4bfe-d05e-2541f3f263d0"
      },
      "source": [
        "wave_model.evaluate(train_gen, verbose=2)"
      ],
      "execution_count": null,
      "outputs": [
        {
          "output_type": "stream",
          "text": [
            "9/9 - 1s - loss: 0.5609 - accuracy: 0.8889 - precision: 0.9118 - recall: 0.8611 - auc: 0.9556\n"
          ],
          "name": "stdout"
        },
        {
          "output_type": "execute_result",
          "data": {
            "text/plain": [
              "[0.560867965221405,\n",
              " 0.8888888955116272,\n",
              " 0.9117646813392639,\n",
              " 0.8611111044883728,\n",
              " 0.955632746219635]"
            ]
          },
          "metadata": {
            "tags": []
          },
          "execution_count": 53
        }
      ]
    },
    {
      "cell_type": "code",
      "metadata": {
        "id": "RKthLx3t6Iuj",
        "colab": {
          "base_uri": "https://localhost:8080/"
        },
        "outputId": "26226689-e22c-4891-dc6f-9ffd7878f246"
      },
      "source": [
        "wave_model.evaluate(test_gen, verbose=2)\n"
      ],
      "execution_count": null,
      "outputs": [
        {
          "output_type": "stream",
          "text": [
            "4/4 - 0s - loss: 0.7954 - accuracy: 0.8333 - precision: 0.9167 - recall: 0.7333 - auc: 0.8356\n"
          ],
          "name": "stdout"
        },
        {
          "output_type": "execute_result",
          "data": {
            "text/plain": [
              "[0.7953732013702393,\n",
              " 0.8333333134651184,\n",
              " 0.9166666865348816,\n",
              " 0.7333333492279053,\n",
              " 0.8355554938316345]"
            ]
          },
          "metadata": {
            "tags": []
          },
          "execution_count": 50
        }
      ]
    },
    {
      "cell_type": "code",
      "metadata": {
        "id": "StDxUVvIaDWz"
      },
      "source": [
        ""
      ],
      "execution_count": null,
      "outputs": []
    }
  ]
}