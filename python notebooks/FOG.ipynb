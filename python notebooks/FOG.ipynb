{
  "nbformat": 4,
  "nbformat_minor": 0,
  "metadata": {
    "colab": {
      "name": "FOG.ipynb",
      "provenance": []
    },
    "kernelspec": {
      "display_name": "Python 3",
      "language": "python",
      "name": "python3"
    },
    "language_info": {
      "codemirror_mode": {
        "name": "ipython",
        "version": 3
      },
      "file_extension": ".py",
      "mimetype": "text/x-python",
      "name": "python",
      "nbconvert_exporter": "python",
      "pygments_lexer": "ipython3",
      "version": "3.6.4"
    }
  },
  "cells": [
    {
      "cell_type": "code",
      "metadata": {
        "id": "tw6gjy8S27Ld"
      },
      "source": [
        "import pandas as pd\n",
        "import numpy as np\n",
        "import matplotlib.pyplot as plt\n",
        "import seaborn as sns"
      ],
      "execution_count": null,
      "outputs": []
    },
    {
      "cell_type": "code",
      "metadata": {
        "colab": {
          "base_uri": "https://localhost:8080/"
        },
        "id": "KqCTOJ5i70bo",
        "outputId": "945c06ad-60de-4ecc-8383-677a268b130a"
      },
      "source": [
        "from google.colab import drive\n",
        "drive.mount('/content/drive')"
      ],
      "execution_count": null,
      "outputs": [
        {
          "output_type": "stream",
          "text": [
            "Mounted at /content/drive\n"
          ],
          "name": "stdout"
        }
      ]
    },
    {
      "cell_type": "code",
      "metadata": {
        "id": "Lk52ijDr27Lu"
      },
      "source": [
        "#path = \"C:/Users/NASH VAZ/Desktop/BE PROJECT/Code/dataset_fog_release/CSV/FOG.csv\"\n",
        "data= pd.read_csv(\"/content/drive/MyDrive/FOG.csv\")\n"
      ],
      "execution_count": null,
      "outputs": []
    },
    {
      "cell_type": "code",
      "metadata": {
        "colab": {
          "base_uri": "https://localhost:8080/",
          "height": 215
        },
        "id": "oxCsBv4j27Lv",
        "outputId": "8109fa7a-d71f-443c-c16b-eb30ea866b35"
      },
      "source": [
        "data.head()"
      ],
      "execution_count": null,
      "outputs": [
        {
          "output_type": "execute_result",
          "data": {
            "text/html": [
              "<div>\n",
              "<style scoped>\n",
              "    .dataframe tbody tr th:only-of-type {\n",
              "        vertical-align: middle;\n",
              "    }\n",
              "\n",
              "    .dataframe tbody tr th {\n",
              "        vertical-align: top;\n",
              "    }\n",
              "\n",
              "    .dataframe thead th {\n",
              "        text-align: right;\n",
              "    }\n",
              "</style>\n",
              "<table border=\"1\" class=\"dataframe\">\n",
              "  <thead>\n",
              "    <tr style=\"text-align: right;\">\n",
              "      <th></th>\n",
              "      <th>time</th>\n",
              "      <th>acc_ankel_hor</th>\n",
              "      <th>acc_ankel_ver</th>\n",
              "      <th>acc_ankel_hl</th>\n",
              "      <th>acc_thigh_hor</th>\n",
              "      <th>acc_thigh_ver</th>\n",
              "      <th>acc_thigh_hl</th>\n",
              "      <th>acc_trunk_hor</th>\n",
              "      <th>acc_trunk_ver</th>\n",
              "      <th>acc_trunk_hl</th>\n",
              "      <th>annotation</th>\n",
              "      <th>filename</th>\n",
              "    </tr>\n",
              "  </thead>\n",
              "  <tbody>\n",
              "    <tr>\n",
              "      <th>0</th>\n",
              "      <td>15</td>\n",
              "      <td>70</td>\n",
              "      <td>39</td>\n",
              "      <td>-970</td>\n",
              "      <td>0</td>\n",
              "      <td>0</td>\n",
              "      <td>0</td>\n",
              "      <td>0</td>\n",
              "      <td>0</td>\n",
              "      <td>0</td>\n",
              "      <td>0</td>\n",
              "      <td>S01R01</td>\n",
              "    </tr>\n",
              "    <tr>\n",
              "      <th>1</th>\n",
              "      <td>31</td>\n",
              "      <td>70</td>\n",
              "      <td>39</td>\n",
              "      <td>-970</td>\n",
              "      <td>0</td>\n",
              "      <td>0</td>\n",
              "      <td>0</td>\n",
              "      <td>0</td>\n",
              "      <td>0</td>\n",
              "      <td>0</td>\n",
              "      <td>0</td>\n",
              "      <td>S01R01</td>\n",
              "    </tr>\n",
              "    <tr>\n",
              "      <th>2</th>\n",
              "      <td>46</td>\n",
              "      <td>60</td>\n",
              "      <td>49</td>\n",
              "      <td>-960</td>\n",
              "      <td>0</td>\n",
              "      <td>0</td>\n",
              "      <td>0</td>\n",
              "      <td>0</td>\n",
              "      <td>0</td>\n",
              "      <td>0</td>\n",
              "      <td>0</td>\n",
              "      <td>S01R01</td>\n",
              "    </tr>\n",
              "    <tr>\n",
              "      <th>3</th>\n",
              "      <td>62</td>\n",
              "      <td>60</td>\n",
              "      <td>49</td>\n",
              "      <td>-960</td>\n",
              "      <td>0</td>\n",
              "      <td>0</td>\n",
              "      <td>0</td>\n",
              "      <td>0</td>\n",
              "      <td>0</td>\n",
              "      <td>0</td>\n",
              "      <td>0</td>\n",
              "      <td>S01R01</td>\n",
              "    </tr>\n",
              "    <tr>\n",
              "      <th>4</th>\n",
              "      <td>78</td>\n",
              "      <td>50</td>\n",
              "      <td>39</td>\n",
              "      <td>-960</td>\n",
              "      <td>0</td>\n",
              "      <td>0</td>\n",
              "      <td>0</td>\n",
              "      <td>0</td>\n",
              "      <td>0</td>\n",
              "      <td>0</td>\n",
              "      <td>0</td>\n",
              "      <td>S01R01</td>\n",
              "    </tr>\n",
              "  </tbody>\n",
              "</table>\n",
              "</div>"
            ],
            "text/plain": [
              "   time  acc_ankel_hor  acc_ankel_ver  ...  acc_trunk_hl  annotation  filename\n",
              "0    15             70             39  ...             0           0    S01R01\n",
              "1    31             70             39  ...             0           0    S01R01\n",
              "2    46             60             49  ...             0           0    S01R01\n",
              "3    62             60             49  ...             0           0    S01R01\n",
              "4    78             50             39  ...             0           0    S01R01\n",
              "\n",
              "[5 rows x 12 columns]"
            ]
          },
          "metadata": {
            "tags": []
          },
          "execution_count": 11
        }
      ]
    },
    {
      "cell_type": "code",
      "metadata": {
        "colab": {
          "base_uri": "https://localhost:8080/"
        },
        "id": "N6ckn7Q827Lv",
        "outputId": "79055e88-34b1-4a35-85ad-ae5aa3ced7a0"
      },
      "source": [
        "data.shape"
      ],
      "execution_count": null,
      "outputs": [
        {
          "output_type": "execute_result",
          "data": {
            "text/plain": [
              "(1048575, 12)"
            ]
          },
          "metadata": {
            "tags": []
          },
          "execution_count": 12
        }
      ]
    },
    {
      "cell_type": "code",
      "metadata": {
        "colab": {
          "base_uri": "https://localhost:8080/"
        },
        "id": "wQsjuadg27Lw",
        "outputId": "e031ece8-26ef-4524-ddb1-21f6fae923e5"
      },
      "source": [
        "print(data['annotation'].unique())\n"
      ],
      "execution_count": null,
      "outputs": [
        {
          "output_type": "stream",
          "text": [
            "[0 1 2]\n"
          ],
          "name": "stdout"
        }
      ]
    },
    {
      "cell_type": "code",
      "metadata": {
        "colab": {
          "base_uri": "https://localhost:8080/",
          "height": 304
        },
        "id": "JPi7r8U-27Lx",
        "outputId": "8ca7673d-12c3-4cae-9740-a255a94ad5ba"
      },
      "source": [
        "\n",
        "data.describe()"
      ],
      "execution_count": null,
      "outputs": [
        {
          "output_type": "execute_result",
          "data": {
            "text/html": [
              "<div>\n",
              "<style scoped>\n",
              "    .dataframe tbody tr th:only-of-type {\n",
              "        vertical-align: middle;\n",
              "    }\n",
              "\n",
              "    .dataframe tbody tr th {\n",
              "        vertical-align: top;\n",
              "    }\n",
              "\n",
              "    .dataframe thead th {\n",
              "        text-align: right;\n",
              "    }\n",
              "</style>\n",
              "<table border=\"1\" class=\"dataframe\">\n",
              "  <thead>\n",
              "    <tr style=\"text-align: right;\">\n",
              "      <th></th>\n",
              "      <th>time</th>\n",
              "      <th>acc_ankel_hor</th>\n",
              "      <th>acc_ankel_ver</th>\n",
              "      <th>acc_ankel_hl</th>\n",
              "      <th>acc_thigh_hor</th>\n",
              "      <th>acc_thigh_ver</th>\n",
              "      <th>acc_thigh_hl</th>\n",
              "      <th>acc_trunk_hor</th>\n",
              "      <th>acc_trunk_ver</th>\n",
              "      <th>acc_trunk_hl</th>\n",
              "      <th>annotation</th>\n",
              "    </tr>\n",
              "  </thead>\n",
              "  <tbody>\n",
              "    <tr>\n",
              "      <th>count</th>\n",
              "      <td>1.048575e+06</td>\n",
              "      <td>1.048575e+06</td>\n",
              "      <td>1.048575e+06</td>\n",
              "      <td>1.048575e+06</td>\n",
              "      <td>1.048575e+06</td>\n",
              "      <td>1.048575e+06</td>\n",
              "      <td>1.048575e+06</td>\n",
              "      <td>1.048575e+06</td>\n",
              "      <td>1.048575e+06</td>\n",
              "      <td>1.048575e+06</td>\n",
              "      <td>1.048575e+06</td>\n",
              "    </tr>\n",
              "    <tr>\n",
              "      <th>mean</th>\n",
              "      <td>9.492081e+05</td>\n",
              "      <td>-8.139144e+01</td>\n",
              "      <td>7.883520e+02</td>\n",
              "      <td>3.344899e+01</td>\n",
              "      <td>8.194024e+01</td>\n",
              "      <td>5.988026e+02</td>\n",
              "      <td>-8.810003e+01</td>\n",
              "      <td>4.791674e+01</td>\n",
              "      <td>7.462420e+02</td>\n",
              "      <td>-1.216940e+02</td>\n",
              "      <td>6.428439e-01</td>\n",
              "    </tr>\n",
              "    <tr>\n",
              "      <th>std</th>\n",
              "      <td>7.052758e+05</td>\n",
              "      <td>4.840373e+02</td>\n",
              "      <td>5.053809e+02</td>\n",
              "      <td>5.835882e+02</td>\n",
              "      <td>5.170484e+02</td>\n",
              "      <td>4.376999e+02</td>\n",
              "      <td>4.842374e+02</td>\n",
              "      <td>2.691102e+02</td>\n",
              "      <td>4.329208e+02</td>\n",
              "      <td>4.638271e+02</td>\n",
              "      <td>5.978405e-01</td>\n",
              "    </tr>\n",
              "    <tr>\n",
              "      <th>min</th>\n",
              "      <td>1.500000e+01</td>\n",
              "      <td>-2.892700e+04</td>\n",
              "      <td>-3.276300e+04</td>\n",
              "      <td>-3.148800e+04</td>\n",
              "      <td>-1.098500e+04</td>\n",
              "      <td>-2.559800e+04</td>\n",
              "      <td>-2.047900e+04</td>\n",
              "      <td>-4.621000e+03</td>\n",
              "      <td>-3.400000e+03</td>\n",
              "      <td>-4.786000e+03</td>\n",
              "      <td>0.000000e+00</td>\n",
              "    </tr>\n",
              "    <tr>\n",
              "      <th>25%</th>\n",
              "      <td>3.741560e+05</td>\n",
              "      <td>-2.120000e+02</td>\n",
              "      <td>5.880000e+02</td>\n",
              "      <td>1.900000e+01</td>\n",
              "      <td>-1.090000e+02</td>\n",
              "      <td>1.380000e+02</td>\n",
              "      <td>-1.110000e+02</td>\n",
              "      <td>-7.700000e+01</td>\n",
              "      <td>6.850000e+02</td>\n",
              "      <td>-2.230000e+02</td>\n",
              "      <td>0.000000e+00</td>\n",
              "    </tr>\n",
              "    <tr>\n",
              "      <th>50%</th>\n",
              "      <td>8.035310e+05</td>\n",
              "      <td>-7.000000e+01</td>\n",
              "      <td>9.500000e+02</td>\n",
              "      <td>2.170000e+02</td>\n",
              "      <td>3.600000e+01</td>\n",
              "      <td>6.570000e+02</td>\n",
              "      <td>7.000000e+01</td>\n",
              "      <td>2.900000e+01</td>\n",
              "      <td>9.420000e+02</td>\n",
              "      <td>-3.800000e+01</td>\n",
              "      <td>1.000000e+00</td>\n",
              "    </tr>\n",
              "    <tr>\n",
              "      <th>75%</th>\n",
              "      <td>1.380343e+06</td>\n",
              "      <td>7.000000e+01</td>\n",
              "      <td>1.019000e+03</td>\n",
              "      <td>3.660000e+02</td>\n",
              "      <td>3.270000e+02</td>\n",
              "      <td>9.720000e+02</td>\n",
              "      <td>2.120000e+02</td>\n",
              "      <td>1.940000e+02</td>\n",
              "      <td>1.009000e+03</td>\n",
              "      <td>1.740000e+02</td>\n",
              "      <td>1.000000e+00</td>\n",
              "    </tr>\n",
              "    <tr>\n",
              "      <th>max</th>\n",
              "      <td>3.058390e+06</td>\n",
              "      <td>3.072300e+04</td>\n",
              "      <td>3.200200e+04</td>\n",
              "      <td>3.174400e+04</td>\n",
              "      <td>2.662500e+04</td>\n",
              "      <td>1.314400e+04</td>\n",
              "      <td>2.841800e+04</td>\n",
              "      <td>4.194000e+03</td>\n",
              "      <td>4.219000e+03</td>\n",
              "      <td>4.339000e+03</td>\n",
              "      <td>2.000000e+00</td>\n",
              "    </tr>\n",
              "  </tbody>\n",
              "</table>\n",
              "</div>"
            ],
            "text/plain": [
              "               time  acc_ankel_hor  ...  acc_trunk_hl    annotation\n",
              "count  1.048575e+06   1.048575e+06  ...  1.048575e+06  1.048575e+06\n",
              "mean   9.492081e+05  -8.139144e+01  ... -1.216940e+02  6.428439e-01\n",
              "std    7.052758e+05   4.840373e+02  ...  4.638271e+02  5.978405e-01\n",
              "min    1.500000e+01  -2.892700e+04  ... -4.786000e+03  0.000000e+00\n",
              "25%    3.741560e+05  -2.120000e+02  ... -2.230000e+02  0.000000e+00\n",
              "50%    8.035310e+05  -7.000000e+01  ... -3.800000e+01  1.000000e+00\n",
              "75%    1.380343e+06   7.000000e+01  ...  1.740000e+02  1.000000e+00\n",
              "max    3.058390e+06   3.072300e+04  ...  4.339000e+03  2.000000e+00\n",
              "\n",
              "[8 rows x 11 columns]"
            ]
          },
          "metadata": {
            "tags": []
          },
          "execution_count": 14
        }
      ]
    },
    {
      "cell_type": "code",
      "metadata": {
        "colab": {
          "base_uri": "https://localhost:8080/"
        },
        "id": "86-PrcKc27Ly",
        "outputId": "245b1a1d-426d-4b20-aa32-dbcfdfcc457f"
      },
      "source": [
        "data.columns"
      ],
      "execution_count": null,
      "outputs": [
        {
          "output_type": "execute_result",
          "data": {
            "text/plain": [
              "Index(['time', 'acc_ankel_hor', 'acc_ankel_ver', 'acc_ankel_hl',\n",
              "       'acc_thigh_hor', 'acc_thigh_ver', 'acc_thigh_hl', 'acc_trunk_hor',\n",
              "       'acc_trunk_ver', 'acc_trunk_hl', 'annotation', 'filename'],\n",
              "      dtype='object')"
            ]
          },
          "metadata": {
            "tags": []
          },
          "execution_count": 15
        }
      ]
    },
    {
      "cell_type": "code",
      "metadata": {
        "colab": {
          "base_uri": "https://localhost:8080/",
          "height": 303
        },
        "id": "tQOTS5cW27Ly",
        "outputId": "e1af256b-2754-47dc-de3a-91ce6a46af0e"
      },
      "source": [
        "data.drop(['file'],axis=1,inplace=True)"
      ],
      "execution_count": null,
      "outputs": [
        {
          "output_type": "error",
          "ename": "KeyError",
          "evalue": "ignored",
          "traceback": [
            "\u001b[0;31m---------------------------------------------------------------------------\u001b[0m",
            "\u001b[0;31mKeyError\u001b[0m                                  Traceback (most recent call last)",
            "\u001b[0;32m<ipython-input-16-b6f3eb4d5676>\u001b[0m in \u001b[0;36m<module>\u001b[0;34m()\u001b[0m\n\u001b[0;32m----> 1\u001b[0;31m \u001b[0mdata\u001b[0m\u001b[0;34m.\u001b[0m\u001b[0mdrop\u001b[0m\u001b[0;34m(\u001b[0m\u001b[0;34m[\u001b[0m\u001b[0;34m'file'\u001b[0m\u001b[0;34m]\u001b[0m\u001b[0;34m,\u001b[0m\u001b[0maxis\u001b[0m\u001b[0;34m=\u001b[0m\u001b[0;36m1\u001b[0m\u001b[0;34m,\u001b[0m\u001b[0minplace\u001b[0m\u001b[0;34m=\u001b[0m\u001b[0;32mTrue\u001b[0m\u001b[0;34m)\u001b[0m\u001b[0;34m\u001b[0m\u001b[0;34m\u001b[0m\u001b[0m\n\u001b[0m",
            "\u001b[0;32m/usr/local/lib/python3.7/dist-packages/pandas/core/frame.py\u001b[0m in \u001b[0;36mdrop\u001b[0;34m(self, labels, axis, index, columns, level, inplace, errors)\u001b[0m\n\u001b[1;32m   4172\u001b[0m             \u001b[0mlevel\u001b[0m\u001b[0;34m=\u001b[0m\u001b[0mlevel\u001b[0m\u001b[0;34m,\u001b[0m\u001b[0;34m\u001b[0m\u001b[0;34m\u001b[0m\u001b[0m\n\u001b[1;32m   4173\u001b[0m             \u001b[0minplace\u001b[0m\u001b[0;34m=\u001b[0m\u001b[0minplace\u001b[0m\u001b[0;34m,\u001b[0m\u001b[0;34m\u001b[0m\u001b[0;34m\u001b[0m\u001b[0m\n\u001b[0;32m-> 4174\u001b[0;31m             \u001b[0merrors\u001b[0m\u001b[0;34m=\u001b[0m\u001b[0merrors\u001b[0m\u001b[0;34m,\u001b[0m\u001b[0;34m\u001b[0m\u001b[0;34m\u001b[0m\u001b[0m\n\u001b[0m\u001b[1;32m   4175\u001b[0m         )\n\u001b[1;32m   4176\u001b[0m \u001b[0;34m\u001b[0m\u001b[0m\n",
            "\u001b[0;32m/usr/local/lib/python3.7/dist-packages/pandas/core/generic.py\u001b[0m in \u001b[0;36mdrop\u001b[0;34m(self, labels, axis, index, columns, level, inplace, errors)\u001b[0m\n\u001b[1;32m   3887\u001b[0m         \u001b[0;32mfor\u001b[0m \u001b[0maxis\u001b[0m\u001b[0;34m,\u001b[0m \u001b[0mlabels\u001b[0m \u001b[0;32min\u001b[0m \u001b[0maxes\u001b[0m\u001b[0;34m.\u001b[0m\u001b[0mitems\u001b[0m\u001b[0;34m(\u001b[0m\u001b[0;34m)\u001b[0m\u001b[0;34m:\u001b[0m\u001b[0;34m\u001b[0m\u001b[0;34m\u001b[0m\u001b[0m\n\u001b[1;32m   3888\u001b[0m             \u001b[0;32mif\u001b[0m \u001b[0mlabels\u001b[0m \u001b[0;32mis\u001b[0m \u001b[0;32mnot\u001b[0m \u001b[0;32mNone\u001b[0m\u001b[0;34m:\u001b[0m\u001b[0;34m\u001b[0m\u001b[0;34m\u001b[0m\u001b[0m\n\u001b[0;32m-> 3889\u001b[0;31m                 \u001b[0mobj\u001b[0m \u001b[0;34m=\u001b[0m \u001b[0mobj\u001b[0m\u001b[0;34m.\u001b[0m\u001b[0m_drop_axis\u001b[0m\u001b[0;34m(\u001b[0m\u001b[0mlabels\u001b[0m\u001b[0;34m,\u001b[0m \u001b[0maxis\u001b[0m\u001b[0;34m,\u001b[0m \u001b[0mlevel\u001b[0m\u001b[0;34m=\u001b[0m\u001b[0mlevel\u001b[0m\u001b[0;34m,\u001b[0m \u001b[0merrors\u001b[0m\u001b[0;34m=\u001b[0m\u001b[0merrors\u001b[0m\u001b[0;34m)\u001b[0m\u001b[0;34m\u001b[0m\u001b[0;34m\u001b[0m\u001b[0m\n\u001b[0m\u001b[1;32m   3890\u001b[0m \u001b[0;34m\u001b[0m\u001b[0m\n\u001b[1;32m   3891\u001b[0m         \u001b[0;32mif\u001b[0m \u001b[0minplace\u001b[0m\u001b[0;34m:\u001b[0m\u001b[0;34m\u001b[0m\u001b[0;34m\u001b[0m\u001b[0m\n",
            "\u001b[0;32m/usr/local/lib/python3.7/dist-packages/pandas/core/generic.py\u001b[0m in \u001b[0;36m_drop_axis\u001b[0;34m(self, labels, axis, level, errors)\u001b[0m\n\u001b[1;32m   3921\u001b[0m                 \u001b[0mnew_axis\u001b[0m \u001b[0;34m=\u001b[0m \u001b[0maxis\u001b[0m\u001b[0;34m.\u001b[0m\u001b[0mdrop\u001b[0m\u001b[0;34m(\u001b[0m\u001b[0mlabels\u001b[0m\u001b[0;34m,\u001b[0m \u001b[0mlevel\u001b[0m\u001b[0;34m=\u001b[0m\u001b[0mlevel\u001b[0m\u001b[0;34m,\u001b[0m \u001b[0merrors\u001b[0m\u001b[0;34m=\u001b[0m\u001b[0merrors\u001b[0m\u001b[0;34m)\u001b[0m\u001b[0;34m\u001b[0m\u001b[0;34m\u001b[0m\u001b[0m\n\u001b[1;32m   3922\u001b[0m             \u001b[0;32melse\u001b[0m\u001b[0;34m:\u001b[0m\u001b[0;34m\u001b[0m\u001b[0;34m\u001b[0m\u001b[0m\n\u001b[0;32m-> 3923\u001b[0;31m                 \u001b[0mnew_axis\u001b[0m \u001b[0;34m=\u001b[0m \u001b[0maxis\u001b[0m\u001b[0;34m.\u001b[0m\u001b[0mdrop\u001b[0m\u001b[0;34m(\u001b[0m\u001b[0mlabels\u001b[0m\u001b[0;34m,\u001b[0m \u001b[0merrors\u001b[0m\u001b[0;34m=\u001b[0m\u001b[0merrors\u001b[0m\u001b[0;34m)\u001b[0m\u001b[0;34m\u001b[0m\u001b[0;34m\u001b[0m\u001b[0m\n\u001b[0m\u001b[1;32m   3924\u001b[0m             \u001b[0mresult\u001b[0m \u001b[0;34m=\u001b[0m \u001b[0mself\u001b[0m\u001b[0;34m.\u001b[0m\u001b[0mreindex\u001b[0m\u001b[0;34m(\u001b[0m\u001b[0;34m**\u001b[0m\u001b[0;34m{\u001b[0m\u001b[0maxis_name\u001b[0m\u001b[0;34m:\u001b[0m \u001b[0mnew_axis\u001b[0m\u001b[0;34m}\u001b[0m\u001b[0;34m)\u001b[0m\u001b[0;34m\u001b[0m\u001b[0;34m\u001b[0m\u001b[0m\n\u001b[1;32m   3925\u001b[0m \u001b[0;34m\u001b[0m\u001b[0m\n",
            "\u001b[0;32m/usr/local/lib/python3.7/dist-packages/pandas/core/indexes/base.py\u001b[0m in \u001b[0;36mdrop\u001b[0;34m(self, labels, errors)\u001b[0m\n\u001b[1;32m   5285\u001b[0m         \u001b[0;32mif\u001b[0m \u001b[0mmask\u001b[0m\u001b[0;34m.\u001b[0m\u001b[0many\u001b[0m\u001b[0;34m(\u001b[0m\u001b[0;34m)\u001b[0m\u001b[0;34m:\u001b[0m\u001b[0;34m\u001b[0m\u001b[0;34m\u001b[0m\u001b[0m\n\u001b[1;32m   5286\u001b[0m             \u001b[0;32mif\u001b[0m \u001b[0merrors\u001b[0m \u001b[0;34m!=\u001b[0m \u001b[0;34m\"ignore\"\u001b[0m\u001b[0;34m:\u001b[0m\u001b[0;34m\u001b[0m\u001b[0;34m\u001b[0m\u001b[0m\n\u001b[0;32m-> 5287\u001b[0;31m                 \u001b[0;32mraise\u001b[0m \u001b[0mKeyError\u001b[0m\u001b[0;34m(\u001b[0m\u001b[0;34mf\"{labels[mask]} not found in axis\"\u001b[0m\u001b[0;34m)\u001b[0m\u001b[0;34m\u001b[0m\u001b[0;34m\u001b[0m\u001b[0m\n\u001b[0m\u001b[1;32m   5288\u001b[0m             \u001b[0mindexer\u001b[0m \u001b[0;34m=\u001b[0m \u001b[0mindexer\u001b[0m\u001b[0;34m[\u001b[0m\u001b[0;34m~\u001b[0m\u001b[0mmask\u001b[0m\u001b[0;34m]\u001b[0m\u001b[0;34m\u001b[0m\u001b[0;34m\u001b[0m\u001b[0m\n\u001b[1;32m   5289\u001b[0m         \u001b[0;32mreturn\u001b[0m \u001b[0mself\u001b[0m\u001b[0;34m.\u001b[0m\u001b[0mdelete\u001b[0m\u001b[0;34m(\u001b[0m\u001b[0mindexer\u001b[0m\u001b[0;34m)\u001b[0m\u001b[0;34m\u001b[0m\u001b[0;34m\u001b[0m\u001b[0m\n",
            "\u001b[0;31mKeyError\u001b[0m: \"['file'] not found in axis\""
          ]
        }
      ]
    },
    {
      "cell_type": "code",
      "metadata": {
        "colab": {
          "base_uri": "https://localhost:8080/",
          "height": 215
        },
        "id": "Yd802DcA27Lz",
        "outputId": "dbea1bb9-7ae8-482b-ef02-24e5ce8cf90f"
      },
      "source": [
        "data.head(5)"
      ],
      "execution_count": null,
      "outputs": [
        {
          "output_type": "execute_result",
          "data": {
            "text/html": [
              "<div>\n",
              "<style scoped>\n",
              "    .dataframe tbody tr th:only-of-type {\n",
              "        vertical-align: middle;\n",
              "    }\n",
              "\n",
              "    .dataframe tbody tr th {\n",
              "        vertical-align: top;\n",
              "    }\n",
              "\n",
              "    .dataframe thead th {\n",
              "        text-align: right;\n",
              "    }\n",
              "</style>\n",
              "<table border=\"1\" class=\"dataframe\">\n",
              "  <thead>\n",
              "    <tr style=\"text-align: right;\">\n",
              "      <th></th>\n",
              "      <th>time</th>\n",
              "      <th>acc_ankel_hor</th>\n",
              "      <th>acc_ankel_ver</th>\n",
              "      <th>acc_ankel_hl</th>\n",
              "      <th>acc_thigh_hor</th>\n",
              "      <th>acc_thigh_ver</th>\n",
              "      <th>acc_thigh_hl</th>\n",
              "      <th>acc_trunk_hor</th>\n",
              "      <th>acc_trunk_ver</th>\n",
              "      <th>acc_trunk_hl</th>\n",
              "      <th>annotation</th>\n",
              "      <th>filename</th>\n",
              "    </tr>\n",
              "  </thead>\n",
              "  <tbody>\n",
              "    <tr>\n",
              "      <th>0</th>\n",
              "      <td>15</td>\n",
              "      <td>70</td>\n",
              "      <td>39</td>\n",
              "      <td>-970</td>\n",
              "      <td>0</td>\n",
              "      <td>0</td>\n",
              "      <td>0</td>\n",
              "      <td>0</td>\n",
              "      <td>0</td>\n",
              "      <td>0</td>\n",
              "      <td>0</td>\n",
              "      <td>S01R01</td>\n",
              "    </tr>\n",
              "    <tr>\n",
              "      <th>1</th>\n",
              "      <td>31</td>\n",
              "      <td>70</td>\n",
              "      <td>39</td>\n",
              "      <td>-970</td>\n",
              "      <td>0</td>\n",
              "      <td>0</td>\n",
              "      <td>0</td>\n",
              "      <td>0</td>\n",
              "      <td>0</td>\n",
              "      <td>0</td>\n",
              "      <td>0</td>\n",
              "      <td>S01R01</td>\n",
              "    </tr>\n",
              "    <tr>\n",
              "      <th>2</th>\n",
              "      <td>46</td>\n",
              "      <td>60</td>\n",
              "      <td>49</td>\n",
              "      <td>-960</td>\n",
              "      <td>0</td>\n",
              "      <td>0</td>\n",
              "      <td>0</td>\n",
              "      <td>0</td>\n",
              "      <td>0</td>\n",
              "      <td>0</td>\n",
              "      <td>0</td>\n",
              "      <td>S01R01</td>\n",
              "    </tr>\n",
              "    <tr>\n",
              "      <th>3</th>\n",
              "      <td>62</td>\n",
              "      <td>60</td>\n",
              "      <td>49</td>\n",
              "      <td>-960</td>\n",
              "      <td>0</td>\n",
              "      <td>0</td>\n",
              "      <td>0</td>\n",
              "      <td>0</td>\n",
              "      <td>0</td>\n",
              "      <td>0</td>\n",
              "      <td>0</td>\n",
              "      <td>S01R01</td>\n",
              "    </tr>\n",
              "    <tr>\n",
              "      <th>4</th>\n",
              "      <td>78</td>\n",
              "      <td>50</td>\n",
              "      <td>39</td>\n",
              "      <td>-960</td>\n",
              "      <td>0</td>\n",
              "      <td>0</td>\n",
              "      <td>0</td>\n",
              "      <td>0</td>\n",
              "      <td>0</td>\n",
              "      <td>0</td>\n",
              "      <td>0</td>\n",
              "      <td>S01R01</td>\n",
              "    </tr>\n",
              "  </tbody>\n",
              "</table>\n",
              "</div>"
            ],
            "text/plain": [
              "   time  acc_ankel_hor  acc_ankel_ver  ...  acc_trunk_hl  annotation  filename\n",
              "0    15             70             39  ...             0           0    S01R01\n",
              "1    31             70             39  ...             0           0    S01R01\n",
              "2    46             60             49  ...             0           0    S01R01\n",
              "3    62             60             49  ...             0           0    S01R01\n",
              "4    78             50             39  ...             0           0    S01R01\n",
              "\n",
              "[5 rows x 12 columns]"
            ]
          },
          "metadata": {
            "tags": []
          },
          "execution_count": 17
        }
      ]
    },
    {
      "cell_type": "code",
      "metadata": {
        "colab": {
          "base_uri": "https://localhost:8080/"
        },
        "id": "o95oDOCc27L0",
        "outputId": "28e078cf-f587-4570-9f1e-070cc193c396"
      },
      "source": [
        "data.isnull().sum()"
      ],
      "execution_count": null,
      "outputs": [
        {
          "output_type": "execute_result",
          "data": {
            "text/plain": [
              "time             0\n",
              "acc_ankel_hor    0\n",
              "acc_ankel_ver    0\n",
              "acc_ankel_hl     0\n",
              "acc_thigh_hor    0\n",
              "acc_thigh_ver    0\n",
              "acc_thigh_hl     0\n",
              "acc_trunk_hor    0\n",
              "acc_trunk_ver    0\n",
              "acc_trunk_hl     0\n",
              "annotation       0\n",
              "filename         0\n",
              "dtype: int64"
            ]
          },
          "metadata": {
            "tags": []
          },
          "execution_count": 18
        }
      ]
    },
    {
      "cell_type": "code",
      "metadata": {
        "id": "uOv0l-wX27L0"
      },
      "source": [
        "data.groupby(['annotation']).nunique()"
      ],
      "execution_count": null,
      "outputs": []
    },
    {
      "cell_type": "code",
      "metadata": {
        "colab": {
          "background_save": true
        },
        "id": "FOudDqux27L1",
        "outputId": "a555e255-9e5c-4113-a4f3-7b93a7954717"
      },
      "source": [
        "data.annotation.value_counts()"
      ],
      "execution_count": null,
      "outputs": [
        {
          "output_type": "execute_result",
          "data": {
            "text/plain": [
              "1    540044\n",
              "0    441518\n",
              "2     67013\n",
              "Name: annotation, dtype: int64"
            ]
          },
          "metadata": {
            "tags": []
          },
          "execution_count": 0
        }
      ]
    },
    {
      "cell_type": "code",
      "metadata": {
        "id": "fXcD4RJG27L2"
      },
      "source": [
        "data.head()"
      ],
      "execution_count": null,
      "outputs": []
    },
    {
      "cell_type": "code",
      "metadata": {
        "id": "ucQRwFle27L2"
      },
      "source": [
        "data.drop(data[data['annotation'] <= 0].index, inplace = True) \n",
        "data.head()"
      ],
      "execution_count": null,
      "outputs": []
    },
    {
      "cell_type": "code",
      "metadata": {
        "id": "ccVmajpS27L3"
      },
      "source": [
        "data.head()"
      ],
      "execution_count": null,
      "outputs": []
    },
    {
      "cell_type": "code",
      "metadata": {
        "id": "iBAyzeCq27L4"
      },
      "source": [
        "data['annotation']=data['annotation'].replace([1],0)"
      ],
      "execution_count": null,
      "outputs": []
    },
    {
      "cell_type": "code",
      "metadata": {
        "id": "Z7xg92gl27L4"
      },
      "source": [
        "data.head()"
      ],
      "execution_count": null,
      "outputs": []
    },
    {
      "cell_type": "code",
      "metadata": {
        "id": "XSYlFJL527L5"
      },
      "source": [
        "data['annotation']=data['annotation'].replace([2],1)"
      ],
      "execution_count": null,
      "outputs": []
    },
    {
      "cell_type": "code",
      "metadata": {
        "id": "3fcHno5G27L5"
      },
      "source": [
        "data['annotation'].unique()"
      ],
      "execution_count": null,
      "outputs": []
    },
    {
      "cell_type": "code",
      "metadata": {
        "id": "IiXtD9J-27L6"
      },
      "source": [
        "data.annotation.value_counts()"
      ],
      "execution_count": null,
      "outputs": []
    },
    {
      "cell_type": "code",
      "metadata": {
        "id": "G43HvShW27L6"
      },
      "source": [
        "X = data.iloc[:,:-1]\n",
        "y = data.iloc[:,-1]\n"
      ],
      "execution_count": null,
      "outputs": []
    },
    {
      "cell_type": "code",
      "metadata": {
        "id": "8JqNAcke27L7"
      },
      "source": [
        "X.head()"
      ],
      "execution_count": null,
      "outputs": []
    },
    {
      "cell_type": "code",
      "metadata": {
        "id": "iYukQuKw27L7"
      },
      "source": [
        "y.head()"
      ],
      "execution_count": null,
      "outputs": []
    },
    {
      "cell_type": "code",
      "metadata": {
        "id": "_rlAt9F627L7"
      },
      "source": [
        "from sklearn.model_selection import train_test_split\n",
        "X_train, X_test, y_train, y_test = train_test_split(X, y, test_size=0.2,random_state=101)\n",
        "type(X_train)"
      ],
      "execution_count": null,
      "outputs": []
    },
    {
      "cell_type": "code",
      "metadata": {
        "id": "EKfRY-AU27L8"
      },
      "source": [
        "from sklearn.preprocessing import StandardScaler\n",
        "sc_X = StandardScaler()\n",
        "X_trainSc = sc_X.fit_transform(X_train)\n",
        "X_testSc = sc_X.fit_transform(X_test)\n",
        "X_trainSc[1]"
      ],
      "execution_count": null,
      "outputs": []
    },
    {
      "cell_type": "markdown",
      "metadata": {
        "id": "jVxDv0Ss27L9"
      },
      "source": [
        "Logistic Regression"
      ]
    },
    {
      "cell_type": "code",
      "metadata": {
        "id": "V_N52-QM27L-"
      },
      "source": [
        "from sklearn.linear_model import LogisticRegression\n",
        "logisticreg = LogisticRegression()\n",
        "logisticreg.fit(X_train,y_train)"
      ],
      "execution_count": null,
      "outputs": []
    },
    {
      "cell_type": "code",
      "metadata": {
        "id": "HjqBtMPW27L-"
      },
      "source": [
        "logistic_preds = logisticreg.predict(X_test)"
      ],
      "execution_count": null,
      "outputs": []
    },
    {
      "cell_type": "code",
      "metadata": {
        "id": "Kss41t3N27L_"
      },
      "source": [
        "from sklearn import metrics\n",
        "# Creating the confusion matrix\n",
        "cm = metrics.confusion_matrix(y_test, logistic_preds )\n",
        "# Assigning columns names\n",
        "cm_df = pd.DataFrame(cm, \n",
        "            columns = ['Predicted Negative', 'Predicted Positive'],\n",
        "            index = ['Actual Negative', 'Actual Positive'])\n",
        "\n",
        "# Showing the confusion matrix\n",
        "print(cm_df)\n",
        "\n",
        "TP = cm[1,1] # true positive \n",
        "TN = cm[0,0] # true negatives\n",
        "FP = cm[0,1] # false positives\n",
        "FN = cm[1,0] # false negatives\n",
        "print('hi')\n",
        "\n",
        "print('True Positives:', TP)\n",
        "print('True Negatives:', TN)\n",
        "print('False Positives:', FP)\n",
        "print('False Negatives:', FN)\n",
        "# calculate accuracy\n",
        "conf_accuracy = (float (TP+TN) / float(TP + TN + FP + FN))*100\n",
        "    \n",
        "    # calculate mis-classification\n",
        "conf_misclassification = 1- conf_accuracy\n",
        "    \n",
        "    # calculate the sensitivity\n",
        "conf_sensitivity = (TP / float(TP + FN))*100\n",
        "    # calculate the specificity\n",
        "conf_specificity = (TN / float(TN + FP))*100\n",
        "    \n",
        "    # calculate precision\n",
        "conf_precision = (TP/ float(TP + FP))*100\n",
        "    # calculate f_1 score\n",
        "conf_f1 = 2 * ((conf_precision * conf_sensitivity) / (conf_precision + conf_sensitivity))*100\n",
        "    \n",
        "    \n",
        "print('-'*50)\n",
        "print(f'Accuracy: {round(conf_accuracy,2)}') \n",
        "print(f'Mis-Classification: {round(conf_misclassification,2)}') \n",
        "print(f'Sensitivity: {round(conf_sensitivity,2)}') \n",
        "print(f'Specificity: {round(conf_specificity,2)}') \n",
        "print(f'Precision: {round(conf_precision,3)}')\n",
        "print(f'f_1 Score: {round(conf_f1,2)}')\n",
        "    \n",
        "\n",
        "\n",
        "\n",
        "\n",
        "\n"
      ],
      "execution_count": null,
      "outputs": []
    },
    {
      "cell_type": "markdown",
      "metadata": {
        "id": "piE_HzO227MA"
      },
      "source": [
        "Random Forest"
      ]
    },
    {
      "cell_type": "code",
      "metadata": {
        "id": "EQYAJyV927MA"
      },
      "source": [
        "from sklearn.ensemble import RandomForestClassifier\n",
        "forest_model = RandomForestClassifier()\n",
        "forest_model.fit(X_train, y_train)\n",
        "forest_preds = forest_model.predict(X_test)"
      ],
      "execution_count": null,
      "outputs": []
    },
    {
      "cell_type": "code",
      "metadata": {
        "id": "HCzJ2u0z27MB"
      },
      "source": [
        "from sklearn import metrics\n",
        "# Creating the confusion matrix\n",
        "cm = metrics.confusion_matrix(y_test, forest_preds )\n",
        "# Assigning columns names\n",
        "cm_df = pd.DataFrame(cm, \n",
        "            columns = ['Predicted Negative', 'Predicted Positive'],\n",
        "            index = ['Actual Negative', 'Actual Positive'])\n",
        "\n",
        "# Showing the confusion matrix\n",
        "print(cm_df)\n",
        "\n",
        "TP = cm[1,1] # true positive \n",
        "TN = cm[0,0] # true negatives\n",
        "FP = cm[0,1] # false positives\n",
        "FN = cm[1,0] # false negatives\n",
        "print('hi')\n",
        "\n",
        "print('True Positives:', TP)\n",
        "print('True Negatives:', TN)\n",
        "print('False Positives:', FP)\n",
        "print('False Negatives:', FN)\n",
        "# calculate accuracy\n",
        "conf_accuracy = (float (TP+TN) / float(TP + TN + FP + FN))*100\n",
        "    \n",
        "    # calculate mis-classification\n",
        "conf_misclassification = 1- conf_accuracy\n",
        "    \n",
        "    # calculate the sensitivity\n",
        "conf_sensitivity = (TP / float(TP + FN))*100\n",
        "    # calculate the specificity\n",
        "conf_specificity = (TN / float(TN + FP))*100\n",
        "    \n",
        "    # calculate precision\n",
        "conf_precision = (TP/ float(TP + FP))*100\n",
        "    # calculate f_1 score\n",
        "conf_f1 = 2 * ((conf_precision * conf_sensitivity) / (conf_precision + conf_sensitivity))*100\n",
        "    \n",
        "    \n",
        "print('-'*50)\n",
        "print(f'Accuracy: {round(conf_accuracy,2)}') \n",
        "print(f'Mis-Classification: {round(conf_misclassification,2)}') \n",
        "print(f'Sensitivity: {round(conf_sensitivity,2)}') \n",
        "print(f'Specificity: {round(conf_specificity,2)}') \n",
        "print(f'Precision: {round(conf_precision,3)}')\n",
        "print(f'f_1 Score: {round(conf_f1,2)}')\n",
        "    \n",
        "\n",
        "\n",
        "\n"
      ],
      "execution_count": null,
      "outputs": []
    },
    {
      "cell_type": "markdown",
      "metadata": {
        "id": "-OV11bMj27MC"
      },
      "source": [
        "KNN"
      ]
    },
    {
      "cell_type": "code",
      "metadata": {
        "id": "4MRANvUF27MD"
      },
      "source": [
        "from sklearn.neighbors import KNeighborsClassifier\n",
        "knn = KNeighborsClassifier()\n",
        "knn.fit(X_trainSc,y_train)"
      ],
      "execution_count": null,
      "outputs": []
    },
    {
      "cell_type": "code",
      "metadata": {
        "id": "TXagrYah27ME"
      },
      "source": [
        "knn = KNeighborsClassifier(n_neighbors=3)\n",
        "knn.fit(X_trainSc,y_train)\n",
        "\n",
        "knn_preds = knn.predict(X_testSc)\n",
        "\n",
        "from sklearn import metrics\n",
        "# Creating the confusion matrix\n",
        "cm = metrics.confusion_matrix(y_test, knn_preds )\n",
        "# Assigning columns names\n",
        "cm_df = pd.DataFrame(cm, \n",
        "            columns = ['Predicted Negative', 'Predicted Positive'],\n",
        "            index = ['Actual Negative', 'Actual Positive'])\n",
        "\n",
        "# Showing the confusion matrix\n",
        "print(cm_df)\n",
        "\n",
        "TP = cm[1,1] # true positive \n",
        "TN = cm[0,0] # true negatives\n",
        "FP = cm[0,1] # false positives\n",
        "FN = cm[1,0] # false negatives\n",
        "print('hi')\n",
        "\n",
        "print('True Positives:', TP)\n",
        "print('True Negatives:', TN)\n",
        "print('False Positives:', FP)\n",
        "print('False Negatives:', FN)\n",
        "# calculate accuracy\n",
        "conf_accuracy = (float (TP+TN) / float(TP + TN + FP + FN))*100\n",
        "    \n",
        "    # calculate mis-classification\n",
        "conf_misclassification = 1- conf_accuracy\n",
        "    \n",
        "    # calculate the sensitivity\n",
        "conf_sensitivity = (TP / float(TP + FN))*100\n",
        "    # calculate the specificity\n",
        "conf_specificity = (TN / float(TN + FP))*100\n",
        "    \n",
        "    # calculate precision\n",
        "conf_precision = (TP/ float(TP + FP))*100\n",
        "    # calculate f_1 score\n",
        "conf_f1 = 2 * ((conf_precision * conf_sensitivity) / (conf_precision + conf_sensitivity))*100\n",
        "    \n",
        "    \n",
        "print('-'*50)\n",
        "print(f'Accuracy: {round(conf_accuracy,2)}') \n",
        "print(f'Mis-Classification: {round(conf_misclassification,2)}') \n",
        "print(f'Sensitivity: {round(conf_sensitivity,2)}') \n",
        "print(f'Specificity: {round(conf_specificity,2)}') \n",
        "print(f'Precision: {round(conf_precision,3)}')\n",
        "print(f'f_1 Score: {round(conf_f1,2)}')\n",
        "    \n",
        "\n"
      ],
      "execution_count": null,
      "outputs": []
    },
    {
      "cell_type": "markdown",
      "metadata": {
        "id": "fosW5VEf27MH"
      },
      "source": [
        "Navie Bayes"
      ]
    },
    {
      "cell_type": "code",
      "metadata": {
        "id": "KpwuUMwp27MI"
      },
      "source": [
        "\n",
        "\n",
        "#Import Gaussian Naive Bayes model\n",
        "from sklearn.naive_bayes import GaussianNB\n",
        "\n",
        "#Create a Gaussian Classifier\n",
        "gnb = GaussianNB()\n",
        "\n",
        "#Train the model using the training sets\n",
        "gnb.fit(X_train, y_train)\n",
        "\n",
        "#Predict the response for test dataset\n",
        "y_pred = gnb.predict(X_test)"
      ],
      "execution_count": null,
      "outputs": []
    },
    {
      "cell_type": "code",
      "metadata": {
        "id": "pwKN5v0y27MI"
      },
      "source": [
        "from sklearn import metrics\n",
        "# Creating the confusion matrix\n",
        "cm = metrics.confusion_matrix(y_test, y_pred )\n",
        "# Assigning columns names\n",
        "cm_df = pd.DataFrame(cm, \n",
        "            columns = ['Predicted Negative', 'Predicted Positive'],\n",
        "            index = ['Actual Negative', 'Actual Positive'])\n",
        "\n",
        "# Showing the confusion matrix\n",
        "print(cm_df)\n",
        "\n",
        "TP = cm[1,1] # true positive \n",
        "TN = cm[0,0] # true negatives\n",
        "FP = cm[0,1] # false positives\n",
        "FN = cm[1,0] # false negatives\n",
        "print('hi')\n",
        "\n",
        "print('True Positives:', TP)\n",
        "print('True Negatives:', TN)\n",
        "print('False Positives:', FP)\n",
        "print('False Negatives:', FN)\n",
        "# calculate accuracy\n",
        "conf_accuracy = (float (TP+TN) / float(TP + TN + FP + FN))*100\n",
        "    \n",
        "    # calculate mis-classification\n",
        "conf_misclassification = 1- conf_accuracy\n",
        "    \n",
        "    # calculate the sensitivity\n",
        "conf_sensitivity = (TP / float(TP + FN))*100\n",
        "    # calculate the specificity\n",
        "conf_specificity = (TN / float(TN + FP))*100\n",
        "    \n",
        "    # calculate precision\n",
        "conf_precision = (TP/ float(TP + FP))*100\n",
        "    # calculate f_1 score\n",
        "conf_f1 = 2 * ((conf_precision * conf_sensitivity) / (conf_precision + conf_sensitivity))*100\n",
        "    \n",
        "    \n",
        "print('-'*50)\n",
        "print(f'Accuracy: {round(conf_accuracy,2)}') \n",
        "print(f'Mis-Classification: {round(conf_misclassification,2)}') \n",
        "print(f'Sensitivity: {round(conf_sensitivity,2)}') \n",
        "print(f'Specificity: {round(conf_specificity,2)}') \n",
        "print(f'Precision: {round(conf_precision,3)}')\n",
        "print(f'f_1 Score: {round(conf_f1,2)}')\n",
        "    \n",
        "\n"
      ],
      "execution_count": null,
      "outputs": []
    },
    {
      "cell_type": "markdown",
      "metadata": {
        "id": "-3Ne58Tj27MK"
      },
      "source": [
        "Decision Tree Classifier\n"
      ]
    },
    {
      "cell_type": "code",
      "metadata": {
        "id": "2KYi4vt827MK"
      },
      "source": [
        "from sklearn.tree import DecisionTreeClassifier\n",
        "tree = DecisionTreeClassifier(criterion=\"entropy\")\n",
        "tree.fit(X_train,y_train)\n"
      ],
      "execution_count": null,
      "outputs": []
    },
    {
      "cell_type": "code",
      "metadata": {
        "id": "N4ppHp5q27ML"
      },
      "source": [
        "tree_preds = tree.predict(X_test)\n",
        "\n",
        "from sklearn import metrics\n",
        "# Creating the confusion matrix\n",
        "cm = metrics.confusion_matrix(y_test, tree_preds )\n",
        "# Assigning columns names\n",
        "cm_df = pd.DataFrame(cm, \n",
        "            columns = ['Predicted Negative', 'Predicted Positive'],\n",
        "            index = ['Actual Negative', 'Actual Positive'])\n",
        "\n",
        "# Showing the confusion matrix\n",
        "print(cm_df)\n",
        "\n",
        "TP = cm[1,1] # true positive \n",
        "TN = cm[0,0] # true negatives\n",
        "FP = cm[0,1] # false positives\n",
        "FN = cm[1,0] # false negatives\n",
        "print('hi')\n",
        "\n",
        "print('True Positives:', TP)\n",
        "print('True Negatives:', TN)\n",
        "print('False Positives:', FP)\n",
        "print('False Negatives:', FN)\n",
        "# calculate accuracy\n",
        "conf_accuracy = (float (TP+TN) / float(TP + TN + FP + FN))*100\n",
        "    \n",
        "    # calculate mis-classification\n",
        "conf_misclassification = 1- conf_accuracy\n",
        "    \n",
        "    # calculate the sensitivity\n",
        "conf_sensitivity = (TP / float(TP + FN))*100\n",
        "    # calculate the specificity\n",
        "conf_specificity = (TN / float(TN + FP))*100\n",
        "    \n",
        "    # calculate precision\n",
        "conf_precision = (TP/ float(TP + FP))*100\n",
        "    # calculate f_1 score\n",
        "conf_f1 = 2 * ((conf_precision * conf_sensitivity) / (conf_precision + conf_sensitivity))*100\n",
        "    \n",
        "    \n",
        "print('-'*50)\n",
        "print(f'Accuracy: {round(conf_accuracy,2)}') \n",
        "print(f'Mis-Classification: {round(conf_misclassification,2)}') \n",
        "print(f'Sensitivity: {round(conf_sensitivity,2)}') \n",
        "print(f'Specificity: {round(conf_specificity,2)}') \n",
        "print(f'Precision: {round(conf_precision,3)}')\n",
        "print(f'f_1 Score: {round(conf_f1,2)}')\n",
        "    \n",
        "\n",
        "\n",
        "\n"
      ],
      "execution_count": null,
      "outputs": []
    },
    {
      "cell_type": "code",
      "metadata": {
        "id": "FvIxKBUI27MM"
      },
      "source": [
        "names = [\"LogisticRegression\",\"RandomForest\",\"KNeighborsClassifier\",\"Navie Bayes\",\"DecisionTreeClassifier\"]"
      ],
      "execution_count": null,
      "outputs": []
    },
    {
      "cell_type": "code",
      "metadata": {
        "id": "9jYbpYpX27MN"
      },
      "source": [
        "scores=[88.15,\n",
        "       95.40,\n",
        "       92.13,\n",
        "       84.41,\n",
        "       96.07]"
      ],
      "execution_count": null,
      "outputs": []
    },
    {
      "cell_type": "code",
      "metadata": {
        "id": "-dKm_N2q27MN"
      },
      "source": [
        "import pandas as pd\n",
        "import seaborn as sns"
      ],
      "execution_count": null,
      "outputs": []
    },
    {
      "cell_type": "code",
      "metadata": {
        "id": "pTNFlQ0P27MO"
      },
      "source": [
        "df = pd.DataFrame()\n",
        "df['name'] = names\n",
        "df['score'] = scores\n",
        "df"
      ],
      "execution_count": null,
      "outputs": []
    },
    {
      "cell_type": "code",
      "metadata": {
        "id": "lhFlzD7a27MO"
      },
      "source": [
        "cm = sns.light_palette(\"red\", as_cmap=True)\n",
        "s = df.style.background_gradient(cmap=cm)\n",
        "s"
      ],
      "execution_count": null,
      "outputs": []
    },
    {
      "cell_type": "code",
      "metadata": {
        "id": "RipfcStv27MP"
      },
      "source": [
        "sns.set(style=\"whitegrid\")\n",
        "ax = sns.barplot(y=\"name\", x=\"score\", data=df)"
      ],
      "execution_count": null,
      "outputs": []
    }
  ]
}