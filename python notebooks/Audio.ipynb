{
  "nbformat": 4,
  "nbformat_minor": 0,
  "metadata": {
    "colab": {
      "name": "PD Audio.ipynb",
      "provenance": [],
      "collapsed_sections": []
    },
    "kernelspec": {
      "name": "python3",
      "display_name": "Python 3"
    },
    "language_info": {
      "name": "python"
    }
  },
  "cells": [
    {
      "cell_type": "code",
      "metadata": {
        "id": "CAYTPkTJn9dE"
      },
      "source": [
        "\n",
        "import pandas as pd\n",
        "import numpy as np\n",
        "import matplotlib.pyplot as plt\n",
        "import seaborn as sns"
      ],
      "execution_count": null,
      "outputs": []
    },
    {
      "cell_type": "code",
      "metadata": {
        "colab": {
          "base_uri": "https://localhost:8080/",
          "height": 439
        },
        "id": "fRT4u1MlpSoD",
        "outputId": "9e6b88fd-c8ea-40da-d1b6-384200064dc7"
      },
      "source": [
        "datas=pd.read_csv('Audio.csv')\n",
        "datas"
      ],
      "execution_count": null,
      "outputs": [
        {
          "output_type": "execute_result",
          "data": {
            "text/html": [
              "<div>\n",
              "<style scoped>\n",
              "    .dataframe tbody tr th:only-of-type {\n",
              "        vertical-align: middle;\n",
              "    }\n",
              "\n",
              "    .dataframe tbody tr th {\n",
              "        vertical-align: top;\n",
              "    }\n",
              "\n",
              "    .dataframe thead th {\n",
              "        text-align: right;\n",
              "    }\n",
              "</style>\n",
              "<table border=\"1\" class=\"dataframe\">\n",
              "  <thead>\n",
              "    <tr style=\"text-align: right;\">\n",
              "      <th></th>\n",
              "      <th>name</th>\n",
              "      <th>MDVP:Fo(Hz)</th>\n",
              "      <th>MDVP:Fhi(Hz)</th>\n",
              "      <th>MDVP:Flo(Hz)</th>\n",
              "      <th>MDVP:Jitter(%)</th>\n",
              "      <th>MDVP:Jitter(Abs)</th>\n",
              "      <th>MDVP:RAP</th>\n",
              "      <th>MDVP:PPQ</th>\n",
              "      <th>Jitter:DDP</th>\n",
              "      <th>MDVP:Shimmer</th>\n",
              "      <th>MDVP:Shimmer(dB)</th>\n",
              "      <th>Shimmer:APQ3</th>\n",
              "      <th>Shimmer:APQ5</th>\n",
              "      <th>MDVP:APQ</th>\n",
              "      <th>Shimmer:DDA</th>\n",
              "      <th>NHR</th>\n",
              "      <th>HNR</th>\n",
              "      <th>status</th>\n",
              "      <th>RPDE</th>\n",
              "      <th>DFA</th>\n",
              "      <th>spread1</th>\n",
              "      <th>spread2</th>\n",
              "      <th>D2</th>\n",
              "      <th>PPE</th>\n",
              "    </tr>\n",
              "  </thead>\n",
              "  <tbody>\n",
              "    <tr>\n",
              "      <th>0</th>\n",
              "      <td>phon_R01_S01_1</td>\n",
              "      <td>119.992</td>\n",
              "      <td>157.302</td>\n",
              "      <td>74.997</td>\n",
              "      <td>0.00784</td>\n",
              "      <td>0.00007</td>\n",
              "      <td>0.00370</td>\n",
              "      <td>0.00554</td>\n",
              "      <td>0.01109</td>\n",
              "      <td>0.04374</td>\n",
              "      <td>0.426</td>\n",
              "      <td>0.02182</td>\n",
              "      <td>0.03130</td>\n",
              "      <td>0.02971</td>\n",
              "      <td>0.06545</td>\n",
              "      <td>0.02211</td>\n",
              "      <td>21.033</td>\n",
              "      <td>1</td>\n",
              "      <td>0.414783</td>\n",
              "      <td>0.815285</td>\n",
              "      <td>-4.813031</td>\n",
              "      <td>0.266482</td>\n",
              "      <td>2.301442</td>\n",
              "      <td>0.284654</td>\n",
              "    </tr>\n",
              "    <tr>\n",
              "      <th>1</th>\n",
              "      <td>phon_R01_S01_2</td>\n",
              "      <td>122.400</td>\n",
              "      <td>148.650</td>\n",
              "      <td>113.819</td>\n",
              "      <td>0.00968</td>\n",
              "      <td>0.00008</td>\n",
              "      <td>0.00465</td>\n",
              "      <td>0.00696</td>\n",
              "      <td>0.01394</td>\n",
              "      <td>0.06134</td>\n",
              "      <td>0.626</td>\n",
              "      <td>0.03134</td>\n",
              "      <td>0.04518</td>\n",
              "      <td>0.04368</td>\n",
              "      <td>0.09403</td>\n",
              "      <td>0.01929</td>\n",
              "      <td>19.085</td>\n",
              "      <td>1</td>\n",
              "      <td>0.458359</td>\n",
              "      <td>0.819521</td>\n",
              "      <td>-4.075192</td>\n",
              "      <td>0.335590</td>\n",
              "      <td>2.486855</td>\n",
              "      <td>0.368674</td>\n",
              "    </tr>\n",
              "    <tr>\n",
              "      <th>2</th>\n",
              "      <td>phon_R01_S01_3</td>\n",
              "      <td>116.682</td>\n",
              "      <td>131.111</td>\n",
              "      <td>111.555</td>\n",
              "      <td>0.01050</td>\n",
              "      <td>0.00009</td>\n",
              "      <td>0.00544</td>\n",
              "      <td>0.00781</td>\n",
              "      <td>0.01633</td>\n",
              "      <td>0.05233</td>\n",
              "      <td>0.482</td>\n",
              "      <td>0.02757</td>\n",
              "      <td>0.03858</td>\n",
              "      <td>0.03590</td>\n",
              "      <td>0.08270</td>\n",
              "      <td>0.01309</td>\n",
              "      <td>20.651</td>\n",
              "      <td>1</td>\n",
              "      <td>0.429895</td>\n",
              "      <td>0.825288</td>\n",
              "      <td>-4.443179</td>\n",
              "      <td>0.311173</td>\n",
              "      <td>2.342259</td>\n",
              "      <td>0.332634</td>\n",
              "    </tr>\n",
              "    <tr>\n",
              "      <th>3</th>\n",
              "      <td>phon_R01_S01_4</td>\n",
              "      <td>116.676</td>\n",
              "      <td>137.871</td>\n",
              "      <td>111.366</td>\n",
              "      <td>0.00997</td>\n",
              "      <td>0.00009</td>\n",
              "      <td>0.00502</td>\n",
              "      <td>0.00698</td>\n",
              "      <td>0.01505</td>\n",
              "      <td>0.05492</td>\n",
              "      <td>0.517</td>\n",
              "      <td>0.02924</td>\n",
              "      <td>0.04005</td>\n",
              "      <td>0.03772</td>\n",
              "      <td>0.08771</td>\n",
              "      <td>0.01353</td>\n",
              "      <td>20.644</td>\n",
              "      <td>1</td>\n",
              "      <td>0.434969</td>\n",
              "      <td>0.819235</td>\n",
              "      <td>-4.117501</td>\n",
              "      <td>0.334147</td>\n",
              "      <td>2.405554</td>\n",
              "      <td>0.368975</td>\n",
              "    </tr>\n",
              "    <tr>\n",
              "      <th>4</th>\n",
              "      <td>phon_R01_S01_5</td>\n",
              "      <td>116.014</td>\n",
              "      <td>141.781</td>\n",
              "      <td>110.655</td>\n",
              "      <td>0.01284</td>\n",
              "      <td>0.00011</td>\n",
              "      <td>0.00655</td>\n",
              "      <td>0.00908</td>\n",
              "      <td>0.01966</td>\n",
              "      <td>0.06425</td>\n",
              "      <td>0.584</td>\n",
              "      <td>0.03490</td>\n",
              "      <td>0.04825</td>\n",
              "      <td>0.04465</td>\n",
              "      <td>0.10470</td>\n",
              "      <td>0.01767</td>\n",
              "      <td>19.649</td>\n",
              "      <td>1</td>\n",
              "      <td>0.417356</td>\n",
              "      <td>0.823484</td>\n",
              "      <td>-3.747787</td>\n",
              "      <td>0.234513</td>\n",
              "      <td>2.332180</td>\n",
              "      <td>0.410335</td>\n",
              "    </tr>\n",
              "    <tr>\n",
              "      <th>...</th>\n",
              "      <td>...</td>\n",
              "      <td>...</td>\n",
              "      <td>...</td>\n",
              "      <td>...</td>\n",
              "      <td>...</td>\n",
              "      <td>...</td>\n",
              "      <td>...</td>\n",
              "      <td>...</td>\n",
              "      <td>...</td>\n",
              "      <td>...</td>\n",
              "      <td>...</td>\n",
              "      <td>...</td>\n",
              "      <td>...</td>\n",
              "      <td>...</td>\n",
              "      <td>...</td>\n",
              "      <td>...</td>\n",
              "      <td>...</td>\n",
              "      <td>...</td>\n",
              "      <td>...</td>\n",
              "      <td>...</td>\n",
              "      <td>...</td>\n",
              "      <td>...</td>\n",
              "      <td>...</td>\n",
              "      <td>...</td>\n",
              "    </tr>\n",
              "    <tr>\n",
              "      <th>190</th>\n",
              "      <td>phon_R01_S50_2</td>\n",
              "      <td>174.188</td>\n",
              "      <td>230.978</td>\n",
              "      <td>94.261</td>\n",
              "      <td>0.00459</td>\n",
              "      <td>0.00003</td>\n",
              "      <td>0.00263</td>\n",
              "      <td>0.00259</td>\n",
              "      <td>0.00790</td>\n",
              "      <td>0.04087</td>\n",
              "      <td>0.405</td>\n",
              "      <td>0.02336</td>\n",
              "      <td>0.02498</td>\n",
              "      <td>0.02745</td>\n",
              "      <td>0.07008</td>\n",
              "      <td>0.02764</td>\n",
              "      <td>19.517</td>\n",
              "      <td>0</td>\n",
              "      <td>0.448439</td>\n",
              "      <td>0.657899</td>\n",
              "      <td>-6.538586</td>\n",
              "      <td>0.121952</td>\n",
              "      <td>2.657476</td>\n",
              "      <td>0.133050</td>\n",
              "    </tr>\n",
              "    <tr>\n",
              "      <th>191</th>\n",
              "      <td>phon_R01_S50_3</td>\n",
              "      <td>209.516</td>\n",
              "      <td>253.017</td>\n",
              "      <td>89.488</td>\n",
              "      <td>0.00564</td>\n",
              "      <td>0.00003</td>\n",
              "      <td>0.00331</td>\n",
              "      <td>0.00292</td>\n",
              "      <td>0.00994</td>\n",
              "      <td>0.02751</td>\n",
              "      <td>0.263</td>\n",
              "      <td>0.01604</td>\n",
              "      <td>0.01657</td>\n",
              "      <td>0.01879</td>\n",
              "      <td>0.04812</td>\n",
              "      <td>0.01810</td>\n",
              "      <td>19.147</td>\n",
              "      <td>0</td>\n",
              "      <td>0.431674</td>\n",
              "      <td>0.683244</td>\n",
              "      <td>-6.195325</td>\n",
              "      <td>0.129303</td>\n",
              "      <td>2.784312</td>\n",
              "      <td>0.168895</td>\n",
              "    </tr>\n",
              "    <tr>\n",
              "      <th>192</th>\n",
              "      <td>phon_R01_S50_4</td>\n",
              "      <td>174.688</td>\n",
              "      <td>240.005</td>\n",
              "      <td>74.287</td>\n",
              "      <td>0.01360</td>\n",
              "      <td>0.00008</td>\n",
              "      <td>0.00624</td>\n",
              "      <td>0.00564</td>\n",
              "      <td>0.01873</td>\n",
              "      <td>0.02308</td>\n",
              "      <td>0.256</td>\n",
              "      <td>0.01268</td>\n",
              "      <td>0.01365</td>\n",
              "      <td>0.01667</td>\n",
              "      <td>0.03804</td>\n",
              "      <td>0.10715</td>\n",
              "      <td>17.883</td>\n",
              "      <td>0</td>\n",
              "      <td>0.407567</td>\n",
              "      <td>0.655683</td>\n",
              "      <td>-6.787197</td>\n",
              "      <td>0.158453</td>\n",
              "      <td>2.679772</td>\n",
              "      <td>0.131728</td>\n",
              "    </tr>\n",
              "    <tr>\n",
              "      <th>193</th>\n",
              "      <td>phon_R01_S50_5</td>\n",
              "      <td>198.764</td>\n",
              "      <td>396.961</td>\n",
              "      <td>74.904</td>\n",
              "      <td>0.00740</td>\n",
              "      <td>0.00004</td>\n",
              "      <td>0.00370</td>\n",
              "      <td>0.00390</td>\n",
              "      <td>0.01109</td>\n",
              "      <td>0.02296</td>\n",
              "      <td>0.241</td>\n",
              "      <td>0.01265</td>\n",
              "      <td>0.01321</td>\n",
              "      <td>0.01588</td>\n",
              "      <td>0.03794</td>\n",
              "      <td>0.07223</td>\n",
              "      <td>19.020</td>\n",
              "      <td>0</td>\n",
              "      <td>0.451221</td>\n",
              "      <td>0.643956</td>\n",
              "      <td>-6.744577</td>\n",
              "      <td>0.207454</td>\n",
              "      <td>2.138608</td>\n",
              "      <td>0.123306</td>\n",
              "    </tr>\n",
              "    <tr>\n",
              "      <th>194</th>\n",
              "      <td>phon_R01_S50_6</td>\n",
              "      <td>214.289</td>\n",
              "      <td>260.277</td>\n",
              "      <td>77.973</td>\n",
              "      <td>0.00567</td>\n",
              "      <td>0.00003</td>\n",
              "      <td>0.00295</td>\n",
              "      <td>0.00317</td>\n",
              "      <td>0.00885</td>\n",
              "      <td>0.01884</td>\n",
              "      <td>0.190</td>\n",
              "      <td>0.01026</td>\n",
              "      <td>0.01161</td>\n",
              "      <td>0.01373</td>\n",
              "      <td>0.03078</td>\n",
              "      <td>0.04398</td>\n",
              "      <td>21.209</td>\n",
              "      <td>0</td>\n",
              "      <td>0.462803</td>\n",
              "      <td>0.664357</td>\n",
              "      <td>-5.724056</td>\n",
              "      <td>0.190667</td>\n",
              "      <td>2.555477</td>\n",
              "      <td>0.148569</td>\n",
              "    </tr>\n",
              "  </tbody>\n",
              "</table>\n",
              "<p>195 rows × 24 columns</p>\n",
              "</div>"
            ],
            "text/plain": [
              "               name  MDVP:Fo(Hz)  MDVP:Fhi(Hz)  ...   spread2        D2       PPE\n",
              "0    phon_R01_S01_1      119.992       157.302  ...  0.266482  2.301442  0.284654\n",
              "1    phon_R01_S01_2      122.400       148.650  ...  0.335590  2.486855  0.368674\n",
              "2    phon_R01_S01_3      116.682       131.111  ...  0.311173  2.342259  0.332634\n",
              "3    phon_R01_S01_4      116.676       137.871  ...  0.334147  2.405554  0.368975\n",
              "4    phon_R01_S01_5      116.014       141.781  ...  0.234513  2.332180  0.410335\n",
              "..              ...          ...           ...  ...       ...       ...       ...\n",
              "190  phon_R01_S50_2      174.188       230.978  ...  0.121952  2.657476  0.133050\n",
              "191  phon_R01_S50_3      209.516       253.017  ...  0.129303  2.784312  0.168895\n",
              "192  phon_R01_S50_4      174.688       240.005  ...  0.158453  2.679772  0.131728\n",
              "193  phon_R01_S50_5      198.764       396.961  ...  0.207454  2.138608  0.123306\n",
              "194  phon_R01_S50_6      214.289       260.277  ...  0.190667  2.555477  0.148569\n",
              "\n",
              "[195 rows x 24 columns]"
            ]
          },
          "metadata": {
            "tags": []
          },
          "execution_count": 2
        }
      ]
    },
    {
      "cell_type": "code",
      "metadata": {
        "colab": {
          "base_uri": "https://localhost:8080/"
        },
        "id": "8XV_I9gyq1Z9",
        "outputId": "0a2248b6-ba20-468c-9ae9-c55044183f4a"
      },
      "source": [
        "datas.dtypes"
      ],
      "execution_count": null,
      "outputs": [
        {
          "output_type": "execute_result",
          "data": {
            "text/plain": [
              "name                 object\n",
              "MDVP:Fo(Hz)         float64\n",
              "MDVP:Fhi(Hz)        float64\n",
              "MDVP:Flo(Hz)        float64\n",
              "MDVP:Jitter(%)      float64\n",
              "MDVP:Jitter(Abs)    float64\n",
              "MDVP:RAP            float64\n",
              "MDVP:PPQ            float64\n",
              "Jitter:DDP          float64\n",
              "MDVP:Shimmer        float64\n",
              "MDVP:Shimmer(dB)    float64\n",
              "Shimmer:APQ3        float64\n",
              "Shimmer:APQ5        float64\n",
              "MDVP:APQ            float64\n",
              "Shimmer:DDA         float64\n",
              "NHR                 float64\n",
              "HNR                 float64\n",
              "status                int64\n",
              "RPDE                float64\n",
              "DFA                 float64\n",
              "spread1             float64\n",
              "spread2             float64\n",
              "D2                  float64\n",
              "PPE                 float64\n",
              "dtype: object"
            ]
          },
          "metadata": {
            "tags": []
          },
          "execution_count": 3
        }
      ]
    },
    {
      "cell_type": "code",
      "metadata": {
        "colab": {
          "base_uri": "https://localhost:8080/",
          "height": 224
        },
        "id": "ODmNs8xaq5St",
        "outputId": "6be259ba-59ef-4e83-89dc-3a7656ff95bc"
      },
      "source": [
        "datas.head()"
      ],
      "execution_count": null,
      "outputs": [
        {
          "output_type": "execute_result",
          "data": {
            "text/html": [
              "<div>\n",
              "<style scoped>\n",
              "    .dataframe tbody tr th:only-of-type {\n",
              "        vertical-align: middle;\n",
              "    }\n",
              "\n",
              "    .dataframe tbody tr th {\n",
              "        vertical-align: top;\n",
              "    }\n",
              "\n",
              "    .dataframe thead th {\n",
              "        text-align: right;\n",
              "    }\n",
              "</style>\n",
              "<table border=\"1\" class=\"dataframe\">\n",
              "  <thead>\n",
              "    <tr style=\"text-align: right;\">\n",
              "      <th></th>\n",
              "      <th>name</th>\n",
              "      <th>MDVP:Fo(Hz)</th>\n",
              "      <th>MDVP:Fhi(Hz)</th>\n",
              "      <th>MDVP:Flo(Hz)</th>\n",
              "      <th>MDVP:Jitter(%)</th>\n",
              "      <th>MDVP:Jitter(Abs)</th>\n",
              "      <th>MDVP:RAP</th>\n",
              "      <th>MDVP:PPQ</th>\n",
              "      <th>Jitter:DDP</th>\n",
              "      <th>MDVP:Shimmer</th>\n",
              "      <th>MDVP:Shimmer(dB)</th>\n",
              "      <th>Shimmer:APQ3</th>\n",
              "      <th>Shimmer:APQ5</th>\n",
              "      <th>MDVP:APQ</th>\n",
              "      <th>Shimmer:DDA</th>\n",
              "      <th>NHR</th>\n",
              "      <th>HNR</th>\n",
              "      <th>status</th>\n",
              "      <th>RPDE</th>\n",
              "      <th>DFA</th>\n",
              "      <th>spread1</th>\n",
              "      <th>spread2</th>\n",
              "      <th>D2</th>\n",
              "      <th>PPE</th>\n",
              "    </tr>\n",
              "  </thead>\n",
              "  <tbody>\n",
              "    <tr>\n",
              "      <th>0</th>\n",
              "      <td>phon_R01_S01_1</td>\n",
              "      <td>119.992</td>\n",
              "      <td>157.302</td>\n",
              "      <td>74.997</td>\n",
              "      <td>0.00784</td>\n",
              "      <td>0.00007</td>\n",
              "      <td>0.00370</td>\n",
              "      <td>0.00554</td>\n",
              "      <td>0.01109</td>\n",
              "      <td>0.04374</td>\n",
              "      <td>0.426</td>\n",
              "      <td>0.02182</td>\n",
              "      <td>0.03130</td>\n",
              "      <td>0.02971</td>\n",
              "      <td>0.06545</td>\n",
              "      <td>0.02211</td>\n",
              "      <td>21.033</td>\n",
              "      <td>1</td>\n",
              "      <td>0.414783</td>\n",
              "      <td>0.815285</td>\n",
              "      <td>-4.813031</td>\n",
              "      <td>0.266482</td>\n",
              "      <td>2.301442</td>\n",
              "      <td>0.284654</td>\n",
              "    </tr>\n",
              "    <tr>\n",
              "      <th>1</th>\n",
              "      <td>phon_R01_S01_2</td>\n",
              "      <td>122.400</td>\n",
              "      <td>148.650</td>\n",
              "      <td>113.819</td>\n",
              "      <td>0.00968</td>\n",
              "      <td>0.00008</td>\n",
              "      <td>0.00465</td>\n",
              "      <td>0.00696</td>\n",
              "      <td>0.01394</td>\n",
              "      <td>0.06134</td>\n",
              "      <td>0.626</td>\n",
              "      <td>0.03134</td>\n",
              "      <td>0.04518</td>\n",
              "      <td>0.04368</td>\n",
              "      <td>0.09403</td>\n",
              "      <td>0.01929</td>\n",
              "      <td>19.085</td>\n",
              "      <td>1</td>\n",
              "      <td>0.458359</td>\n",
              "      <td>0.819521</td>\n",
              "      <td>-4.075192</td>\n",
              "      <td>0.335590</td>\n",
              "      <td>2.486855</td>\n",
              "      <td>0.368674</td>\n",
              "    </tr>\n",
              "    <tr>\n",
              "      <th>2</th>\n",
              "      <td>phon_R01_S01_3</td>\n",
              "      <td>116.682</td>\n",
              "      <td>131.111</td>\n",
              "      <td>111.555</td>\n",
              "      <td>0.01050</td>\n",
              "      <td>0.00009</td>\n",
              "      <td>0.00544</td>\n",
              "      <td>0.00781</td>\n",
              "      <td>0.01633</td>\n",
              "      <td>0.05233</td>\n",
              "      <td>0.482</td>\n",
              "      <td>0.02757</td>\n",
              "      <td>0.03858</td>\n",
              "      <td>0.03590</td>\n",
              "      <td>0.08270</td>\n",
              "      <td>0.01309</td>\n",
              "      <td>20.651</td>\n",
              "      <td>1</td>\n",
              "      <td>0.429895</td>\n",
              "      <td>0.825288</td>\n",
              "      <td>-4.443179</td>\n",
              "      <td>0.311173</td>\n",
              "      <td>2.342259</td>\n",
              "      <td>0.332634</td>\n",
              "    </tr>\n",
              "    <tr>\n",
              "      <th>3</th>\n",
              "      <td>phon_R01_S01_4</td>\n",
              "      <td>116.676</td>\n",
              "      <td>137.871</td>\n",
              "      <td>111.366</td>\n",
              "      <td>0.00997</td>\n",
              "      <td>0.00009</td>\n",
              "      <td>0.00502</td>\n",
              "      <td>0.00698</td>\n",
              "      <td>0.01505</td>\n",
              "      <td>0.05492</td>\n",
              "      <td>0.517</td>\n",
              "      <td>0.02924</td>\n",
              "      <td>0.04005</td>\n",
              "      <td>0.03772</td>\n",
              "      <td>0.08771</td>\n",
              "      <td>0.01353</td>\n",
              "      <td>20.644</td>\n",
              "      <td>1</td>\n",
              "      <td>0.434969</td>\n",
              "      <td>0.819235</td>\n",
              "      <td>-4.117501</td>\n",
              "      <td>0.334147</td>\n",
              "      <td>2.405554</td>\n",
              "      <td>0.368975</td>\n",
              "    </tr>\n",
              "    <tr>\n",
              "      <th>4</th>\n",
              "      <td>phon_R01_S01_5</td>\n",
              "      <td>116.014</td>\n",
              "      <td>141.781</td>\n",
              "      <td>110.655</td>\n",
              "      <td>0.01284</td>\n",
              "      <td>0.00011</td>\n",
              "      <td>0.00655</td>\n",
              "      <td>0.00908</td>\n",
              "      <td>0.01966</td>\n",
              "      <td>0.06425</td>\n",
              "      <td>0.584</td>\n",
              "      <td>0.03490</td>\n",
              "      <td>0.04825</td>\n",
              "      <td>0.04465</td>\n",
              "      <td>0.10470</td>\n",
              "      <td>0.01767</td>\n",
              "      <td>19.649</td>\n",
              "      <td>1</td>\n",
              "      <td>0.417356</td>\n",
              "      <td>0.823484</td>\n",
              "      <td>-3.747787</td>\n",
              "      <td>0.234513</td>\n",
              "      <td>2.332180</td>\n",
              "      <td>0.410335</td>\n",
              "    </tr>\n",
              "  </tbody>\n",
              "</table>\n",
              "</div>"
            ],
            "text/plain": [
              "             name  MDVP:Fo(Hz)  MDVP:Fhi(Hz)  ...   spread2        D2       PPE\n",
              "0  phon_R01_S01_1      119.992       157.302  ...  0.266482  2.301442  0.284654\n",
              "1  phon_R01_S01_2      122.400       148.650  ...  0.335590  2.486855  0.368674\n",
              "2  phon_R01_S01_3      116.682       131.111  ...  0.311173  2.342259  0.332634\n",
              "3  phon_R01_S01_4      116.676       137.871  ...  0.334147  2.405554  0.368975\n",
              "4  phon_R01_S01_5      116.014       141.781  ...  0.234513  2.332180  0.410335\n",
              "\n",
              "[5 rows x 24 columns]"
            ]
          },
          "metadata": {
            "tags": []
          },
          "execution_count": 4
        }
      ]
    },
    {
      "cell_type": "code",
      "metadata": {
        "id": "ZYovMmDHq9vg"
      },
      "source": [
        "import seaborn as sns"
      ],
      "execution_count": null,
      "outputs": []
    },
    {
      "cell_type": "code",
      "metadata": {
        "colab": {
          "base_uri": "https://localhost:8080/",
          "height": 400
        },
        "id": "QXAA4P9-rAyI",
        "outputId": "2f2fa4c4-af4c-476d-e4b0-35d4a90dda23"
      },
      "source": [
        "sns.catplot(x='status', kind='count', data=datas)"
      ],
      "execution_count": null,
      "outputs": [
        {
          "output_type": "execute_result",
          "data": {
            "text/plain": [
              "<seaborn.axisgrid.FacetGrid at 0x7fc6edf1b650>"
            ]
          },
          "metadata": {
            "tags": []
          },
          "execution_count": 6
        },
        {
          "output_type": "display_data",
          "data": {
            "image/png": "[encoded data removed]",
            "text/plain": [
              "<Figure size 360x360 with 1 Axes>"
            ]
          },
          "metadata": {
            "tags": [],
            "needs_background": "light"
          }
        }
      ]
    },
    {
      "cell_type": "code",
      "metadata": {
        "id": "whI94NxHrFby"
      },
      "source": [
        "b=datas.drop(['name'],axis=1)"
      ],
      "execution_count": null,
      "outputs": []
    },
    {
      "cell_type": "code",
      "metadata": {
        "colab": {
          "base_uri": "https://localhost:8080/",
          "height": 224
        },
        "id": "sMcC3bJRrQpt",
        "outputId": "2fa09d86-26e0-4612-ab6f-bd128a3c3d81"
      },
      "source": [
        "b.head()"
      ],
      "execution_count": null,
      "outputs": [
        {
          "output_type": "execute_result",
          "data": {
            "text/html": [
              "<div>\n",
              "<style scoped>\n",
              "    .dataframe tbody tr th:only-of-type {\n",
              "        vertical-align: middle;\n",
              "    }\n",
              "\n",
              "    .dataframe tbody tr th {\n",
              "        vertical-align: top;\n",
              "    }\n",
              "\n",
              "    .dataframe thead th {\n",
              "        text-align: right;\n",
              "    }\n",
              "</style>\n",
              "<table border=\"1\" class=\"dataframe\">\n",
              "  <thead>\n",
              "    <tr style=\"text-align: right;\">\n",
              "      <th></th>\n",
              "      <th>MDVP:Fo(Hz)</th>\n",
              "      <th>MDVP:Fhi(Hz)</th>\n",
              "      <th>MDVP:Flo(Hz)</th>\n",
              "      <th>MDVP:Jitter(%)</th>\n",
              "      <th>MDVP:Jitter(Abs)</th>\n",
              "      <th>MDVP:RAP</th>\n",
              "      <th>MDVP:PPQ</th>\n",
              "      <th>Jitter:DDP</th>\n",
              "      <th>MDVP:Shimmer</th>\n",
              "      <th>MDVP:Shimmer(dB)</th>\n",
              "      <th>Shimmer:APQ3</th>\n",
              "      <th>Shimmer:APQ5</th>\n",
              "      <th>MDVP:APQ</th>\n",
              "      <th>Shimmer:DDA</th>\n",
              "      <th>NHR</th>\n",
              "      <th>HNR</th>\n",
              "      <th>status</th>\n",
              "      <th>RPDE</th>\n",
              "      <th>DFA</th>\n",
              "      <th>spread1</th>\n",
              "      <th>spread2</th>\n",
              "      <th>D2</th>\n",
              "      <th>PPE</th>\n",
              "    </tr>\n",
              "  </thead>\n",
              "  <tbody>\n",
              "    <tr>\n",
              "      <th>0</th>\n",
              "      <td>119.992</td>\n",
              "      <td>157.302</td>\n",
              "      <td>74.997</td>\n",
              "      <td>0.00784</td>\n",
              "      <td>0.00007</td>\n",
              "      <td>0.00370</td>\n",
              "      <td>0.00554</td>\n",
              "      <td>0.01109</td>\n",
              "      <td>0.04374</td>\n",
              "      <td>0.426</td>\n",
              "      <td>0.02182</td>\n",
              "      <td>0.03130</td>\n",
              "      <td>0.02971</td>\n",
              "      <td>0.06545</td>\n",
              "      <td>0.02211</td>\n",
              "      <td>21.033</td>\n",
              "      <td>1</td>\n",
              "      <td>0.414783</td>\n",
              "      <td>0.815285</td>\n",
              "      <td>-4.813031</td>\n",
              "      <td>0.266482</td>\n",
              "      <td>2.301442</td>\n",
              "      <td>0.284654</td>\n",
              "    </tr>\n",
              "    <tr>\n",
              "      <th>1</th>\n",
              "      <td>122.400</td>\n",
              "      <td>148.650</td>\n",
              "      <td>113.819</td>\n",
              "      <td>0.00968</td>\n",
              "      <td>0.00008</td>\n",
              "      <td>0.00465</td>\n",
              "      <td>0.00696</td>\n",
              "      <td>0.01394</td>\n",
              "      <td>0.06134</td>\n",
              "      <td>0.626</td>\n",
              "      <td>0.03134</td>\n",
              "      <td>0.04518</td>\n",
              "      <td>0.04368</td>\n",
              "      <td>0.09403</td>\n",
              "      <td>0.01929</td>\n",
              "      <td>19.085</td>\n",
              "      <td>1</td>\n",
              "      <td>0.458359</td>\n",
              "      <td>0.819521</td>\n",
              "      <td>-4.075192</td>\n",
              "      <td>0.335590</td>\n",
              "      <td>2.486855</td>\n",
              "      <td>0.368674</td>\n",
              "    </tr>\n",
              "    <tr>\n",
              "      <th>2</th>\n",
              "      <td>116.682</td>\n",
              "      <td>131.111</td>\n",
              "      <td>111.555</td>\n",
              "      <td>0.01050</td>\n",
              "      <td>0.00009</td>\n",
              "      <td>0.00544</td>\n",
              "      <td>0.00781</td>\n",
              "      <td>0.01633</td>\n",
              "      <td>0.05233</td>\n",
              "      <td>0.482</td>\n",
              "      <td>0.02757</td>\n",
              "      <td>0.03858</td>\n",
              "      <td>0.03590</td>\n",
              "      <td>0.08270</td>\n",
              "      <td>0.01309</td>\n",
              "      <td>20.651</td>\n",
              "      <td>1</td>\n",
              "      <td>0.429895</td>\n",
              "      <td>0.825288</td>\n",
              "      <td>-4.443179</td>\n",
              "      <td>0.311173</td>\n",
              "      <td>2.342259</td>\n",
              "      <td>0.332634</td>\n",
              "    </tr>\n",
              "    <tr>\n",
              "      <th>3</th>\n",
              "      <td>116.676</td>\n",
              "      <td>137.871</td>\n",
              "      <td>111.366</td>\n",
              "      <td>0.00997</td>\n",
              "      <td>0.00009</td>\n",
              "      <td>0.00502</td>\n",
              "      <td>0.00698</td>\n",
              "      <td>0.01505</td>\n",
              "      <td>0.05492</td>\n",
              "      <td>0.517</td>\n",
              "      <td>0.02924</td>\n",
              "      <td>0.04005</td>\n",
              "      <td>0.03772</td>\n",
              "      <td>0.08771</td>\n",
              "      <td>0.01353</td>\n",
              "      <td>20.644</td>\n",
              "      <td>1</td>\n",
              "      <td>0.434969</td>\n",
              "      <td>0.819235</td>\n",
              "      <td>-4.117501</td>\n",
              "      <td>0.334147</td>\n",
              "      <td>2.405554</td>\n",
              "      <td>0.368975</td>\n",
              "    </tr>\n",
              "    <tr>\n",
              "      <th>4</th>\n",
              "      <td>116.014</td>\n",
              "      <td>141.781</td>\n",
              "      <td>110.655</td>\n",
              "      <td>0.01284</td>\n",
              "      <td>0.00011</td>\n",
              "      <td>0.00655</td>\n",
              "      <td>0.00908</td>\n",
              "      <td>0.01966</td>\n",
              "      <td>0.06425</td>\n",
              "      <td>0.584</td>\n",
              "      <td>0.03490</td>\n",
              "      <td>0.04825</td>\n",
              "      <td>0.04465</td>\n",
              "      <td>0.10470</td>\n",
              "      <td>0.01767</td>\n",
              "      <td>19.649</td>\n",
              "      <td>1</td>\n",
              "      <td>0.417356</td>\n",
              "      <td>0.823484</td>\n",
              "      <td>-3.747787</td>\n",
              "      <td>0.234513</td>\n",
              "      <td>2.332180</td>\n",
              "      <td>0.410335</td>\n",
              "    </tr>\n",
              "  </tbody>\n",
              "</table>\n",
              "</div>"
            ],
            "text/plain": [
              "   MDVP:Fo(Hz)  MDVP:Fhi(Hz)  MDVP:Flo(Hz)  ...   spread2        D2       PPE\n",
              "0      119.992       157.302        74.997  ...  0.266482  2.301442  0.284654\n",
              "1      122.400       148.650       113.819  ...  0.335590  2.486855  0.368674\n",
              "2      116.682       131.111       111.555  ...  0.311173  2.342259  0.332634\n",
              "3      116.676       137.871       111.366  ...  0.334147  2.405554  0.368975\n",
              "4      116.014       141.781       110.655  ...  0.234513  2.332180  0.410335\n",
              "\n",
              "[5 rows x 23 columns]"
            ]
          },
          "metadata": {
            "tags": []
          },
          "execution_count": 8
        }
      ]
    },
    {
      "cell_type": "code",
      "metadata": {
        "id": "0NlJgMaPrVPh"
      },
      "source": [
        "import numpy as np\n",
        "from sklearn.preprocessing import MinMaxScaler\n",
        "from sklearn.model_selection import train_test_split,cross_val_score\n",
        "from sklearn.metrics import accuracy_score,mean_squared_error"
      ],
      "execution_count": null,
      "outputs": []
    },
    {
      "cell_type": "code",
      "metadata": {
        "id": "hd6z9_IIrYn0"
      },
      "source": [
        "features=datas.drop(['status','name'],axis=1)\n",
        "labels=datas['status']"
      ],
      "execution_count": null,
      "outputs": []
    },
    {
      "cell_type": "code",
      "metadata": {
        "id": "Gf0lxUlWrbp6"
      },
      "source": [
        "scaler=MinMaxScaler((-1,1))\n",
        "x=scaler.fit_transform(features)\n",
        "y=labels"
      ],
      "execution_count": null,
      "outputs": []
    },
    {
      "cell_type": "code",
      "metadata": {
        "id": "lkxVMU02rdf7"
      },
      "source": [
        "x_train,x_test,y_train,y_test=train_test_split(x, y, test_size=0.2, random_state=5)"
      ],
      "execution_count": null,
      "outputs": []
    },
    {
      "cell_type": "code",
      "metadata": {
        "id": "djsC6ibyrpDN"
      },
      "source": [
        "#@title Extra Tree Classifier\n"
      ],
      "execution_count": null,
      "outputs": []
    },
    {
      "cell_type": "code",
      "metadata": {
        "colab": {
          "base_uri": "https://localhost:8080/"
        },
        "id": "nNcXHZSKr2if",
        "outputId": "35101d25-ecc8-4060-c9d8-ebd88c5b730e"
      },
      "source": [
        "from sklearn.ensemble import ExtraTreesClassifier\n",
        "model=ExtraTreesClassifier()\n",
        "model.fit(x_train,y_train)"
      ],
      "execution_count": null,
      "outputs": [
        {
          "output_type": "execute_result",
          "data": {
            "text/plain": [
              "ExtraTreesClassifier(bootstrap=False, ccp_alpha=0.0, class_weight=None,\n",
              "                     criterion='gini', max_depth=None, max_features='auto',\n",
              "                     max_leaf_nodes=None, max_samples=None,\n",
              "                     min_impurity_decrease=0.0, min_impurity_split=None,\n",
              "                     min_samples_leaf=1, min_samples_split=2,\n",
              "                     min_weight_fraction_leaf=0.0, n_estimators=100,\n",
              "                     n_jobs=None, oob_score=False, random_state=None, verbose=0,\n",
              "                     warm_start=False)"
            ]
          },
          "metadata": {
            "tags": []
          },
          "execution_count": 16
        }
      ]
    },
    {
      "cell_type": "code",
      "metadata": {
        "colab": {
          "base_uri": "https://localhost:8080/"
        },
        "id": "qgY-oXRIsH3y",
        "outputId": "82aac47f-bcf4-45e3-a497-0e83bce14ee1"
      },
      "source": [
        "y_pred=model.predict(x_test)\n",
        "from sklearn import metrics\n",
        "# Creating the confusion matrix\n",
        "cm = metrics.confusion_matrix(y_test, y_pred )\n",
        "# Assigning columns names\n",
        "cm_df = pd.DataFrame(cm, \n",
        "            columns = ['Predicted Negative', 'Predicted Positive'],\n",
        "            index = ['Actual Negative', 'Actual Positive'])\n",
        "\n",
        "# Showing the confusion matrix\n",
        "print(cm_df)\n",
        "\n",
        "TP = cm[1,1] # true positive \n",
        "TN = cm[0,0] # true negatives\n",
        "FP = cm[0,1] # false positives\n",
        "FN = cm[1,0] # false negatives\n",
        "print('hi')\n",
        "\n",
        "print('True Positives:', TP)\n",
        "print('True Negatives:', TN)\n",
        "print('False Positives:', FP)\n",
        "print('False Negatives:', FN)\n",
        "# calculate accuracy\n",
        "conf_accuracy = (float (TP+TN) / float(TP + TN + FP + FN))\n",
        "    \n",
        "    # calculate mis-classification\n",
        "conf_misclassification = 1- conf_accuracy\n",
        "    \n",
        "    # calculate the sensitivity\n",
        "conf_sensitivity = (TP / float(TP + FN))\n",
        "    # calculate the specificity\n",
        "conf_specificity = (TN / float(TN + FP))\n",
        "    \n",
        "    # calculate precision\n",
        "conf_precision = (TN / float(TN + FP))\n",
        "    # calculate f_1 score\n",
        "conf_f1 = 2 * ((conf_precision * conf_sensitivity) / (conf_precision + conf_sensitivity))\n",
        "    \n",
        "    \n",
        "print('-'*50)\n",
        "print(f'Accuracy: {round(conf_accuracy,2)}') \n",
        "print(f'Mis-Classification: {round(conf_misclassification,2)}') \n",
        "print(f'Sensitivity: {round(conf_sensitivity,2)}') \n",
        "print(f'Specificity: {round(conf_specificity,2)}') \n",
        "print(f'Precision: {round(conf_precision,2)}')\n",
        "print(f'f_1 Score: {round(conf_f1,2)}')"
      ],
      "execution_count": null,
      "outputs": [
        {
          "output_type": "stream",
          "text": [
            "                 Predicted Negative  Predicted Positive\n",
            "Actual Negative                   8                   2\n",
            "Actual Positive                   1                  28\n",
            "hi\n",
            "True Positives: 28\n",
            "True Negatives: 8\n",
            "False Positives: 2\n",
            "False Negatives: 1\n",
            "--------------------------------------------------\n",
            "Accuracy: 0.92\n",
            "Mis-Classification: 0.08\n",
            "Sensitivity: 0.97\n",
            "Specificity: 0.8\n",
            "Precision: 0.8\n",
            "f_1 Score: 0.88\n"
          ],
          "name": "stdout"
        }
      ]
    },
    {
      "cell_type": "code",
      "metadata": {
        "id": "JQw0d4bYsOAE"
      },
      "source": [
        "#@title LogisticRegression\n"
      ],
      "execution_count": null,
      "outputs": []
    },
    {
      "cell_type": "code",
      "metadata": {
        "colab": {
          "base_uri": "https://localhost:8080/"
        },
        "id": "NwtoI-DRsfec",
        "outputId": "8375ffa8-428e-4653-b7f8-58e14f7f26ac"
      },
      "source": [
        "from sklearn.linear_model import LogisticRegression\n",
        "logisticreg = LogisticRegression()\n",
        "logisticreg.fit(x_train,y_train)"
      ],
      "execution_count": null,
      "outputs": [
        {
          "output_type": "execute_result",
          "data": {
            "text/plain": [
              "LogisticRegression(C=1.0, class_weight=None, dual=False, fit_intercept=True,\n",
              "                   intercept_scaling=1, l1_ratio=None, max_iter=100,\n",
              "                   multi_class='auto', n_jobs=None, penalty='l2',\n",
              "                   random_state=None, solver='lbfgs', tol=0.0001, verbose=0,\n",
              "                   warm_start=False)"
            ]
          },
          "metadata": {
            "tags": []
          },
          "execution_count": 20
        }
      ]
    },
    {
      "cell_type": "code",
      "metadata": {
        "id": "giTcqdEAsh7q"
      },
      "source": [
        "logistic_preds = logisticreg.predict(x_test)"
      ],
      "execution_count": null,
      "outputs": []
    },
    {
      "cell_type": "code",
      "metadata": {
        "colab": {
          "base_uri": "https://localhost:8080/"
        },
        "id": "B-DLnzCVsjwk",
        "outputId": "cd09611b-6101-4c1e-a631-0b73dcc41abd"
      },
      "source": [
        "from sklearn import metrics\n",
        "# Creating the confusion matrix\n",
        "cm = metrics.confusion_matrix(y_test, logistic_preds )\n",
        "# Assigning columns names\n",
        "cm_df = pd.DataFrame(cm, \n",
        "            columns = ['Predicted Negative', 'Predicted Positive'],\n",
        "            index = ['Actual Negative', 'Actual Positive'])\n",
        "\n",
        "# Showing the confusion matrix\n",
        "print(cm_df)\n",
        "\n",
        "TP = cm[1,1] # true positive \n",
        "TN = cm[0,0] # true negatives\n",
        "FP = cm[0,1] # false positives\n",
        "FN = cm[1,0] # false negatives\n",
        "print('hi')\n",
        "\n",
        "print('True Positives:', TP)\n",
        "print('True Negatives:', TN)\n",
        "print('False Positives:', FP)\n",
        "print('False Negatives:', FN)\n",
        "# calculate accuracy\n",
        "conf_accuracy = (float (TP+TN) / float(TP + TN + FP + FN))\n",
        "    \n",
        "    # calculate mis-classification\n",
        "conf_misclassification = 1- conf_accuracy\n",
        "    \n",
        "    # calculate the sensitivity\n",
        "conf_sensitivity = (TP / float(TP + FN))\n",
        "    # calculate the specificity\n",
        "conf_specificity = (TN / float(TN + FP))\n",
        "    \n",
        "    # calculate precision\n",
        "conf_precision = (TN / float(TN + FP))\n",
        "    # calculate f_1 score\n",
        "conf_f1 = 2 * ((conf_precision * conf_sensitivity) / (conf_precision + conf_sensitivity))\n",
        "    \n",
        "    \n",
        "print('-'*50)\n",
        "print(f'Accuracy: {round(conf_accuracy,2)}') \n",
        "print(f'Mis-Classification: {round(conf_misclassification,2)}') \n",
        "print(f'Sensitivity: {round(conf_sensitivity,2)}') \n",
        "print(f'Specificity: {round(conf_specificity,2)}') \n",
        "print(f'Precision: {round(conf_precision,2)}')\n",
        "print(f'f_1 Score: {round(conf_f1,2)}')"
      ],
      "execution_count": null,
      "outputs": [
        {
          "output_type": "stream",
          "text": [
            "                 Predicted Negative  Predicted Positive\n",
            "Actual Negative                   4                   6\n",
            "Actual Positive                   1                  28\n",
            "hi\n",
            "True Positives: 28\n",
            "True Negatives: 4\n",
            "False Positives: 6\n",
            "False Negatives: 1\n",
            "--------------------------------------------------\n",
            "Accuracy: 0.82\n",
            "Mis-Classification: 0.18\n",
            "Sensitivity: 0.97\n",
            "Specificity: 0.4\n",
            "Precision: 0.4\n",
            "f_1 Score: 0.57\n"
          ],
          "name": "stdout"
        }
      ]
    },
    {
      "cell_type": "code",
      "metadata": {
        "id": "OhYmccRQsn18"
      },
      "source": [
        "#@title KNeighborsClassifier\n"
      ],
      "execution_count": null,
      "outputs": []
    },
    {
      "cell_type": "code",
      "metadata": {
        "colab": {
          "base_uri": "https://localhost:8080/"
        },
        "id": "0_revqYFsu7N",
        "outputId": "931b85d8-6203-4209-abf1-27eb12706cbf"
      },
      "source": [
        "from sklearn.neighbors import KNeighborsClassifier\n",
        "knn = KNeighborsClassifier()\n",
        "knn.fit(x_train,y_train)"
      ],
      "execution_count": null,
      "outputs": [
        {
          "output_type": "execute_result",
          "data": {
            "text/plain": [
              "KNeighborsClassifier(algorithm='auto', leaf_size=30, metric='minkowski',\n",
              "                     metric_params=None, n_jobs=None, n_neighbors=5, p=2,\n",
              "                     weights='uniform')"
            ]
          },
          "metadata": {
            "tags": []
          },
          "execution_count": 23
        }
      ]
    },
    {
      "cell_type": "code",
      "metadata": {
        "colab": {
          "base_uri": "https://localhost:8080/",
          "height": 337
        },
        "id": "nJ_6af9CsxIW",
        "outputId": "ff6361ff-e84d-469b-dcb4-0b2ee5787f09"
      },
      "source": [
        "#find value of k\n",
        "error_rate = []\n",
        "\n",
        "for i in range(1,40):\n",
        "    knn = KNeighborsClassifier(n_neighbors=i)\n",
        "    knn.fit(x_train,y_train)\n",
        "    pred_i = knn.predict(x_test)\n",
        "    error_rate.append(np.mean(pred_i != y_test))\n",
        "    \n",
        "plt.figure(figsize=(15,5))\n",
        "plt.plot(range(1,40), error_rate, marker='o', markerfacecolor='red')"
      ],
      "execution_count": null,
      "outputs": [
        {
          "output_type": "execute_result",
          "data": {
            "text/plain": [
              "[<matplotlib.lines.Line2D at 0x7fc6df71b3d0>]"
            ]
          },
          "metadata": {
            "tags": []
          },
          "execution_count": 24
        },
        {
          "output_type": "display_data",
          "data": {
            "image/png": "[encoded data removed]",
            "text/plain": [
              "<Figure size 1080x360 with 1 Axes>"
            ]
          },
          "metadata": {
            "tags": [],
            "needs_background": "light"
          }
        }
      ]
    },
    {
      "cell_type": "code",
      "metadata": {
        "colab": {
          "base_uri": "https://localhost:8080/"
        },
        "id": "rKkFenYrs0F1",
        "outputId": "d01e1238-b05a-4e4a-c54d-3db3077e423e"
      },
      "source": [
        "knn = KNeighborsClassifier(n_neighbors=3)\n",
        "knn.fit(x_train,y_train)\n",
        "\n",
        "knn_preds = knn.predict(x_test)\n",
        "from sklearn import metrics\n",
        "# Creating the confusion matrix\n",
        "cm = metrics.confusion_matrix(y_test, knn_preds )\n",
        "# Assigning columns names\n",
        "cm_df = pd.DataFrame(cm, \n",
        "            columns = ['Predicted Negative', 'Predicted Positive'],\n",
        "            index = ['Actual Negative', 'Actual Positive'])\n",
        "\n",
        "# Showing the confusion matrix\n",
        "print(cm_df)\n",
        "\n",
        "TP = cm[1,1] # true positive \n",
        "TN = cm[0,0] # true negatives\n",
        "FP = cm[0,1] # false positives\n",
        "FN = cm[1,0] # false negatives\n",
        "print('hi')\n",
        "\n",
        "print('True Positives:', TP)\n",
        "print('True Negatives:', TN)\n",
        "print('False Positives:', FP)\n",
        "print('False Negatives:', FN)\n",
        "# calculate accuracy\n",
        "conf_accuracy = (float (TP+TN) / float(TP + TN + FP + FN))\n",
        "    \n",
        "    # calculate mis-classification\n",
        "conf_misclassification = 1- conf_accuracy\n",
        "    \n",
        "    # calculate the sensitivity\n",
        "conf_sensitivity = (TP / float(TP + FN))\n",
        "    # calculate the specificity\n",
        "conf_specificity = (TN / float(TN + FP))\n",
        "    \n",
        "    # calculate precision\n",
        "conf_precision = (TN / float(TN + FP))\n",
        "    # calculate f_1 score\n",
        "conf_f1 = 2 * ((conf_precision * conf_sensitivity) / (conf_precision + conf_sensitivity))\n",
        "    \n",
        "    \n",
        "print('-'*50)\n",
        "print(f'Accuracy: {round(conf_accuracy,2)}') \n",
        "print(f'Mis-Classification: {round(conf_misclassification,2)}') \n",
        "print(f'Sensitivity: {round(conf_sensitivity,2)}') \n",
        "print(f'Specificity: {round(conf_specificity,2)}') \n",
        "print(f'Precision: {round(conf_precision,2)}')\n",
        "print(f'f_1 Score: {round(conf_f1,2)}')"
      ],
      "execution_count": null,
      "outputs": [
        {
          "output_type": "stream",
          "text": [
            "                 Predicted Negative  Predicted Positive\n",
            "Actual Negative                  10                   0\n",
            "Actual Positive                   1                  28\n",
            "hi\n",
            "True Positives: 28\n",
            "True Negatives: 10\n",
            "False Positives: 0\n",
            "False Negatives: 1\n",
            "--------------------------------------------------\n",
            "Accuracy: 0.97\n",
            "Mis-Classification: 0.03\n",
            "Sensitivity: 0.97\n",
            "Specificity: 1.0\n",
            "Precision: 1.0\n",
            "f_1 Score: 0.98\n"
          ],
          "name": "stdout"
        }
      ]
    },
    {
      "cell_type": "code",
      "metadata": {
        "id": "RcLEfOczs4gv"
      },
      "source": [
        "#@title RandomForest Classifier\n"
      ],
      "execution_count": null,
      "outputs": []
    },
    {
      "cell_type": "code",
      "metadata": {
        "id": "uN8UwsAAtH92"
      },
      "source": [
        "from sklearn.ensemble import RandomForestClassifier\n",
        "forest_model = RandomForestClassifier()\n",
        "forest_model.fit(x_train, y_train)\n",
        "forest_preds = forest_model.predict(x_test)"
      ],
      "execution_count": null,
      "outputs": []
    },
    {
      "cell_type": "code",
      "metadata": {
        "colab": {
          "base_uri": "https://localhost:8080/"
        },
        "id": "FGg80sIltIzC",
        "outputId": "25f2f6dd-3bea-4601-edc4-7a505b7411ef"
      },
      "source": [
        "from sklearn import metrics\n",
        "# Creating the confusion matrix\n",
        "cm = metrics.confusion_matrix(y_test, forest_preds )\n",
        "# Assigning columns names\n",
        "cm_df = pd.DataFrame(cm, \n",
        "            columns = ['Predicted Negative', 'Predicted Positive'],\n",
        "            index = ['Actual Negative', 'Actual Positive'])\n",
        "\n",
        "# Showing the confusion matrix\n",
        "print(cm_df)\n",
        "\n",
        "TP = cm[1,1] # true positive \n",
        "TN = cm[0,0] # true negatives\n",
        "FP = cm[0,1] # false positives\n",
        "FN = cm[1,0] # false negatives\n",
        "print('hi')\n",
        "\n",
        "print('True Positives:', TP)\n",
        "print('True Negatives:', TN)\n",
        "print('False Positives:', FP)\n",
        "print('False Negatives:', FN)\n",
        "# calculate accuracy\n",
        "conf_accuracy = (float (TP+TN) / float(TP + TN + FP + FN))\n",
        "    \n",
        "    # calculate mis-classification\n",
        "conf_misclassification = 1- conf_accuracy\n",
        "    \n",
        "    # calculate the sensitivity\n",
        "conf_sensitivity = (TP / float(TP + FN))\n",
        "    # calculate the specificity\n",
        "conf_specificity = (TN / float(TN + FP))\n",
        "    \n",
        "    # calculate precision\n",
        "conf_precision = (TN / float(TN + FP))\n",
        "    # calculate f_1 score\n",
        "conf_f1 = 2 * ((conf_precision * conf_sensitivity) / (conf_precision + conf_sensitivity))\n",
        "    \n",
        "    \n",
        "print('-'*50)\n",
        "print(f'Accuracy: {round(conf_accuracy,2)}') \n",
        "print(f'Mis-Classification: {round(conf_misclassification,2)}') \n",
        "print(f'Sensitivity: {round(conf_sensitivity,2)}') \n",
        "print(f'Specificity: {round(conf_specificity,2)}') \n",
        "print(f'Precision: {round(conf_precision,2)}')\n",
        "print(f'f_1 Score: {round(conf_f1,2)}')"
      ],
      "execution_count": null,
      "outputs": [
        {
          "output_type": "stream",
          "text": [
            "                 Predicted Negative  Predicted Positive\n",
            "Actual Negative                   8                   2\n",
            "Actual Positive                   2                  27\n",
            "hi\n",
            "True Positives: 27\n",
            "True Negatives: 8\n",
            "False Positives: 2\n",
            "False Negatives: 2\n",
            "--------------------------------------------------\n",
            "Accuracy: 0.9\n",
            "Mis-Classification: 0.1\n",
            "Sensitivity: 0.93\n",
            "Specificity: 0.8\n",
            "Precision: 0.8\n",
            "f_1 Score: 0.86\n"
          ],
          "name": "stdout"
        }
      ]
    },
    {
      "cell_type": "code",
      "metadata": {
        "id": "GCuhsWE6tL_k"
      },
      "source": [
        "#@title SVM(kernel='linear')\n"
      ],
      "execution_count": null,
      "outputs": []
    },
    {
      "cell_type": "code",
      "metadata": {
        "colab": {
          "base_uri": "https://localhost:8080/"
        },
        "id": "vfyMFABgtTJ4",
        "outputId": "8063fb85-8933-47aa-f80f-404fbd3b1f5b"
      },
      "source": [
        "from sklearn.svm import SVC\n",
        "svm_model = SVC(kernel = 'linear')\n",
        "svm_model.fit(x_train,y_train)"
      ],
      "execution_count": null,
      "outputs": [
        {
          "output_type": "execute_result",
          "data": {
            "text/plain": [
              "SVC(C=1.0, break_ties=False, cache_size=200, class_weight=None, coef0=0.0,\n",
              "    decision_function_shape='ovr', degree=3, gamma='scale', kernel='linear',\n",
              "    max_iter=-1, probability=False, random_state=None, shrinking=True,\n",
              "    tol=0.001, verbose=False)"
            ]
          },
          "metadata": {
            "tags": []
          },
          "execution_count": 29
        }
      ]
    },
    {
      "cell_type": "code",
      "metadata": {
        "id": "Z3syumR_tU_V"
      },
      "source": [
        "svm_preds = svm_model.predict(x_test)"
      ],
      "execution_count": null,
      "outputs": []
    },
    {
      "cell_type": "code",
      "metadata": {
        "colab": {
          "base_uri": "https://localhost:8080/"
        },
        "id": "J0VwMBBktW4J",
        "outputId": "654819fa-fa49-4199-992e-944da60aad08"
      },
      "source": [
        "from sklearn import metrics\n",
        "# Creating the confusion matrix\n",
        "cm = metrics.confusion_matrix(y_test, svm_preds )\n",
        "# Assigning columns names\n",
        "cm_df = pd.DataFrame(cm, \n",
        "            columns = ['Predicted Negative', 'Predicted Positive'],\n",
        "            index = ['Actual Negative', 'Actual Positive'])\n",
        "\n",
        "# Showing the confusion matrix\n",
        "print(cm_df)\n",
        "\n",
        "TP = cm[1,1] # true positive \n",
        "TN = cm[0,0] # true negatives\n",
        "FP = cm[0,1] # false positives\n",
        "FN = cm[1,0] # false negatives\n",
        "print('hi')\n",
        "\n",
        "print('True Positives:', TP)\n",
        "print('True Negatives:', TN)\n",
        "print('False Positives:', FP)\n",
        "print('False Negatives:', FN)\n",
        "# calculate accuracy\n",
        "conf_accuracy = (float (TP+TN) / float(TP + TN + FP + FN))\n",
        "    \n",
        "    # calculate mis-classification\n",
        "conf_misclassification = 1- conf_accuracy\n",
        "    \n",
        "    # calculate the sensitivity\n",
        "conf_sensitivity = (TP / float(TP + FN))\n",
        "    # calculate the specificity\n",
        "conf_specificity = (TN / float(TN + FP))\n",
        "    \n",
        "    # calculate precision\n",
        "conf_precision = (TN / float(TN + FP))\n",
        "    # calculate f_1 score\n",
        "conf_f1 = 2 * ((conf_precision * conf_sensitivity) / (conf_precision + conf_sensitivity))\n",
        "    \n",
        "    \n",
        "print('-'*50)\n",
        "print(f'Accuracy: {round(conf_accuracy,2)}') \n",
        "print(f'Mis-Classification: {round(conf_misclassification,2)}') \n",
        "print(f'Sensitivity: {round(conf_sensitivity,2)}') \n",
        "print(f'Specificity: {round(conf_specificity,2)}') \n",
        "print(f'Precision: {round(conf_precision,2)}')\n",
        "print(f'f_1 Score: {round(conf_f1,2)}')"
      ],
      "execution_count": null,
      "outputs": [
        {
          "output_type": "stream",
          "text": [
            "                 Predicted Negative  Predicted Positive\n",
            "Actual Negative                   4                   6\n",
            "Actual Positive                   0                  29\n",
            "hi\n",
            "True Positives: 29\n",
            "True Negatives: 4\n",
            "False Positives: 6\n",
            "False Negatives: 0\n",
            "--------------------------------------------------\n",
            "Accuracy: 0.85\n",
            "Mis-Classification: 0.15\n",
            "Sensitivity: 1.0\n",
            "Specificity: 0.4\n",
            "Precision: 0.4\n",
            "f_1 Score: 0.57\n"
          ],
          "name": "stdout"
        }
      ]
    },
    {
      "cell_type": "code",
      "metadata": {
        "id": "_B2qo_G1tcSS"
      },
      "source": [
        "#@title SVM(kernel='rbf')"
      ],
      "execution_count": null,
      "outputs": []
    },
    {
      "cell_type": "code",
      "metadata": {
        "colab": {
          "base_uri": "https://localhost:8080/"
        },
        "id": "3ALf98tftnim",
        "outputId": "c25fdd17-ac87-48f0-c75d-629b152a47f4"
      },
      "source": [
        "svm_model = SVC(kernel='rbf', random_state=0)\n",
        "svm_model.fit(x_train,y_train)"
      ],
      "execution_count": null,
      "outputs": [
        {
          "output_type": "execute_result",
          "data": {
            "text/plain": [
              "SVC(C=1.0, break_ties=False, cache_size=200, class_weight=None, coef0=0.0,\n",
              "    decision_function_shape='ovr', degree=3, gamma='scale', kernel='rbf',\n",
              "    max_iter=-1, probability=False, random_state=0, shrinking=True, tol=0.001,\n",
              "    verbose=False)"
            ]
          },
          "metadata": {
            "tags": []
          },
          "execution_count": 32
        }
      ]
    },
    {
      "cell_type": "code",
      "metadata": {
        "id": "ZNfq5HTwtpjg"
      },
      "source": [
        "svm_preds = svm_model.predict(x_test)"
      ],
      "execution_count": null,
      "outputs": []
    },
    {
      "cell_type": "code",
      "metadata": {
        "colab": {
          "base_uri": "https://localhost:8080/"
        },
        "id": "Fes5iu5Ctrbi",
        "outputId": "b0b5cd2c-c6f0-4ca8-9f19-ba29e1433944"
      },
      "source": [
        "from sklearn.model_selection import GridSearchCV\n",
        "\n",
        "param_grid = {'C':[0.1,1,10,100,1000],'gamma':[1,0.1,0.01,0.001,0.0001]}\n",
        "grid = GridSearchCV(SVC(), param_grid, verbose=3)\n",
        "grid.fit(x_train,y_train)"
      ],
      "execution_count": null,
      "outputs": [
        {
          "output_type": "stream",
          "text": [
            "Fitting 5 folds for each of 25 candidates, totalling 125 fits\n",
            "[CV] C=0.1, gamma=1 ..................................................\n",
            "[CV] ...................... C=0.1, gamma=1, score=0.750, total=   0.0s\n",
            "[CV] C=0.1, gamma=1 ..................................................\n",
            "[CV] ...................... C=0.1, gamma=1, score=0.774, total=   0.0s\n",
            "[CV] C=0.1, gamma=1 ..................................................\n",
            "[CV] ...................... C=0.1, gamma=1, score=0.774, total=   0.0s\n",
            "[CV] C=0.1, gamma=1 ..................................................\n",
            "[CV] ...................... C=0.1, gamma=1, score=0.742, total=   0.0s\n",
            "[CV] C=0.1, gamma=1 ..................................................\n",
            "[CV] ...................... C=0.1, gamma=1, score=0.742, total=   0.0s\n",
            "[CV] C=0.1, gamma=0.1 ................................................\n",
            "[CV] .................... C=0.1, gamma=0.1, score=0.750, total=   0.0s\n",
            "[CV] C=0.1, gamma=0.1 ................................................\n",
            "[CV] .................... C=0.1, gamma=0.1, score=0.774, total=   0.0s\n",
            "[CV] C=0.1, gamma=0.1 ................................................\n",
            "[CV] .................... C=0.1, gamma=0.1, score=0.774, total=   0.0s\n",
            "[CV] C=0.1, gamma=0.1 ................................................\n",
            "[CV] .................... C=0.1, gamma=0.1, score=0.742, total=   0.0s\n",
            "[CV] C=0.1, gamma=0.1 ................................................\n",
            "[CV] .................... C=0.1, gamma=0.1, score=0.742, total=   0.0s\n",
            "[CV] C=0.1, gamma=0.01 ...............................................\n",
            "[CV] ................... C=0.1, gamma=0.01, score=0.750, total=   0.0s\n",
            "[CV] C=0.1, gamma=0.01 ...............................................\n",
            "[CV] ................... C=0.1, gamma=0.01, score=0.774, total=   0.0s\n",
            "[CV] C=0.1, gamma=0.01 ...............................................\n",
            "[CV] ................... C=0.1, gamma=0.01, score=0.774, total=   0.0s\n",
            "[CV] C=0.1, gamma=0.01 ...............................................\n",
            "[CV] ................... C=0.1, gamma=0.01, score=0.742, total=   0.0s\n",
            "[CV] C=0.1, gamma=0.01 ...............................................\n",
            "[CV] ................... C=0.1, gamma=0.01, score=0.742, total=   0.0s\n",
            "[CV] C=0.1, gamma=0.001 ..............................................\n",
            "[CV] .................. C=0.1, gamma=0.001, score=0.750, total=   0.0s\n",
            "[CV] C=0.1, gamma=0.001 ..............................................\n",
            "[CV] .................. C=0.1, gamma=0.001, score=0.774, total=   0.0s\n",
            "[CV] C=0.1, gamma=0.001 ..............................................\n",
            "[CV] .................. C=0.1, gamma=0.001, score=0.774, total=   0.0s\n",
            "[CV] C=0.1, gamma=0.001 ..............................................\n",
            "[CV] .................. C=0.1, gamma=0.001, score=0.742, total=   0.0s\n",
            "[CV] C=0.1, gamma=0.001 ..............................................\n",
            "[CV] .................. C=0.1, gamma=0.001, score=0.742, total=   0.0s\n",
            "[CV] C=0.1, gamma=0.0001 .............................................\n",
            "[CV] ................. C=0.1, gamma=0.0001, score=0.750, total=   0.0s\n",
            "[CV] C=0.1, gamma=0.0001 .............................................\n",
            "[CV] ................. C=0.1, gamma=0.0001, score=0.774, total=   0.0s\n",
            "[CV] C=0.1, gamma=0.0001 .............................................\n",
            "[CV] ................. C=0.1, gamma=0.0001, score=0.774, total=   0.0s\n",
            "[CV] C=0.1, gamma=0.0001 .............................................\n",
            "[CV] ................. C=0.1, gamma=0.0001, score=0.742, total=   0.0s\n",
            "[CV] C=0.1, gamma=0.0001 .............................................\n",
            "[CV] ................. C=0.1, gamma=0.0001, score=0.742, total=   0.0s\n",
            "[CV] C=1, gamma=1 ....................................................\n",
            "[CV] ........................ C=1, gamma=1, score=0.906, total=   0.0s\n",
            "[CV] C=1, gamma=1 ....................................................\n",
            "[CV] ........................ C=1, gamma=1, score=0.903, total=   0.0s\n",
            "[CV] C=1, gamma=1 ....................................................\n",
            "[CV] ........................ C=1, gamma=1, score=0.871, total=   0.0s\n",
            "[CV] C=1, gamma=1 ....................................................\n",
            "[CV] ........................ C=1, gamma=1, score=0.903, total=   0.0s\n",
            "[CV] C=1, gamma=1 ....................................................\n",
            "[CV] ........................ C=1, gamma=1, score=0.903, total=   0.0s\n",
            "[CV] C=1, gamma=0.1 ..................................................\n",
            "[CV] ...................... C=1, gamma=0.1, score=0.906, total=   0.0s\n",
            "[CV] C=1, gamma=0.1 ..................................................\n",
            "[CV] ...................... C=1, gamma=0.1, score=0.871, total=   0.0s\n",
            "[CV] C=1, gamma=0.1 ..................................................\n",
            "[CV] ...................... C=1, gamma=0.1, score=0.871, total=   0.0s\n",
            "[CV] C=1, gamma=0.1 ..................................................\n",
            "[CV] ...................... C=1, gamma=0.1, score=0.871, total=   0.0s\n",
            "[CV] C=1, gamma=0.1 ..................................................\n",
            "[CV] ...................... C=1, gamma=0.1, score=0.871, total=   0.0s\n",
            "[CV] C=1, gamma=0.01 .................................................\n",
            "[CV] ..................... C=1, gamma=0.01, score=0.750, total=   0.0s\n",
            "[CV] C=1, gamma=0.01 .................................................\n",
            "[CV] ..................... C=1, gamma=0.01, score=0.774, total=   0.0s\n",
            "[CV] C=1, gamma=0.01 .................................................\n",
            "[CV] ..................... C=1, gamma=0.01, score=0.774, total=   0.0s\n",
            "[CV] C=1, gamma=0.01 .................................................\n",
            "[CV] ..................... C=1, gamma=0.01, score=0.742, total=   0.0s\n",
            "[CV] C=1, gamma=0.01 .................................................\n",
            "[CV] ..................... C=1, gamma=0.01, score=0.742, total=   0.0s\n",
            "[CV] C=1, gamma=0.001 ................................................\n",
            "[CV] .................... C=1, gamma=0.001, score=0.750, total=   0.0s\n",
            "[CV] C=1, gamma=0.001 ................................................\n",
            "[CV] .................... C=1, gamma=0.001, score=0.774, total=   0.0s\n",
            "[CV] C=1, gamma=0.001 ................................................\n",
            "[CV] .................... C=1, gamma=0.001, score=0.774, total=   0.0s\n",
            "[CV] C=1, gamma=0.001 ................................................\n",
            "[CV] .................... C=1, gamma=0.001, score=0.742, total=   0.0s\n",
            "[CV] C=1, gamma=0.001 ................................................\n",
            "[CV] .................... C=1, gamma=0.001, score=0.742, total=   0.0s\n",
            "[CV] C=1, gamma=0.0001 ...............................................\n"
          ],
          "name": "stdout"
        },
        {
          "output_type": "stream",
          "text": [
            "[Parallel(n_jobs=1)]: Using backend SequentialBackend with 1 concurrent workers.\n",
            "[Parallel(n_jobs=1)]: Done   1 out of   1 | elapsed:    0.0s remaining:    0.0s\n",
            "[Parallel(n_jobs=1)]: Done   2 out of   2 | elapsed:    0.0s remaining:    0.0s\n"
          ],
          "name": "stderr"
        },
        {
          "output_type": "stream",
          "text": [
            "[CV] ................... C=1, gamma=0.0001, score=0.750, total=   0.0s\n",
            "[CV] C=1, gamma=0.0001 ...............................................\n",
            "[CV] ................... C=1, gamma=0.0001, score=0.774, total=   0.0s\n",
            "[CV] C=1, gamma=0.0001 ...............................................\n",
            "[CV] ................... C=1, gamma=0.0001, score=0.774, total=   0.0s\n",
            "[CV] C=1, gamma=0.0001 ...............................................\n",
            "[CV] ................... C=1, gamma=0.0001, score=0.742, total=   0.0s\n",
            "[CV] C=1, gamma=0.0001 ...............................................\n",
            "[CV] ................... C=1, gamma=0.0001, score=0.742, total=   0.0s\n",
            "[CV] C=10, gamma=1 ...................................................\n",
            "[CV] ....................... C=10, gamma=1, score=0.875, total=   0.0s\n",
            "[CV] C=10, gamma=1 ...................................................\n",
            "[CV] ....................... C=10, gamma=1, score=0.968, total=   0.0s\n",
            "[CV] C=10, gamma=1 ...................................................\n",
            "[CV] ....................... C=10, gamma=1, score=0.968, total=   0.0s\n",
            "[CV] C=10, gamma=1 ...................................................\n",
            "[CV] ....................... C=10, gamma=1, score=0.968, total=   0.0s\n",
            "[CV] C=10, gamma=1 ...................................................\n",
            "[CV] ....................... C=10, gamma=1, score=0.968, total=   0.0s\n",
            "[CV] C=10, gamma=0.1 .................................................\n",
            "[CV] ..................... C=10, gamma=0.1, score=0.938, total=   0.0s\n",
            "[CV] C=10, gamma=0.1 .................................................\n",
            "[CV] ..................... C=10, gamma=0.1, score=0.903, total=   0.0s\n",
            "[CV] C=10, gamma=0.1 .................................................\n",
            "[CV] ..................... C=10, gamma=0.1, score=0.871, total=   0.0s\n",
            "[CV] C=10, gamma=0.1 .................................................\n",
            "[CV] ..................... C=10, gamma=0.1, score=0.935, total=   0.0s\n",
            "[CV] C=10, gamma=0.1 .................................................\n",
            "[CV] ..................... C=10, gamma=0.1, score=0.871, total=   0.0s\n",
            "[CV] C=10, gamma=0.01 ................................................\n",
            "[CV] .................... C=10, gamma=0.01, score=0.938, total=   0.0s\n",
            "[CV] C=10, gamma=0.01 ................................................\n",
            "[CV] .................... C=10, gamma=0.01, score=0.903, total=   0.0s\n",
            "[CV] C=10, gamma=0.01 ................................................\n",
            "[CV] .................... C=10, gamma=0.01, score=0.871, total=   0.0s\n",
            "[CV] C=10, gamma=0.01 ................................................\n",
            "[CV] .................... C=10, gamma=0.01, score=0.871, total=   0.0s\n",
            "[CV] C=10, gamma=0.01 ................................................\n",
            "[CV] .................... C=10, gamma=0.01, score=0.871, total=   0.0s\n",
            "[CV] C=10, gamma=0.001 ...............................................\n",
            "[CV] ................... C=10, gamma=0.001, score=0.750, total=   0.0s\n",
            "[CV] C=10, gamma=0.001 ...............................................\n",
            "[CV] ................... C=10, gamma=0.001, score=0.774, total=   0.0s\n",
            "[CV] C=10, gamma=0.001 ...............................................\n",
            "[CV] ................... C=10, gamma=0.001, score=0.774, total=   0.0s\n",
            "[CV] C=10, gamma=0.001 ...............................................\n",
            "[CV] ................... C=10, gamma=0.001, score=0.742, total=   0.0s\n",
            "[CV] C=10, gamma=0.001 ...............................................\n",
            "[CV] ................... C=10, gamma=0.001, score=0.742, total=   0.0s\n",
            "[CV] C=10, gamma=0.0001 ..............................................\n",
            "[CV] .................. C=10, gamma=0.0001, score=0.750, total=   0.0s\n",
            "[CV] C=10, gamma=0.0001 ..............................................\n",
            "[CV] .................. C=10, gamma=0.0001, score=0.774, total=   0.0s\n",
            "[CV] C=10, gamma=0.0001 ..............................................\n",
            "[CV] .................. C=10, gamma=0.0001, score=0.774, total=   0.0s\n",
            "[CV] C=10, gamma=0.0001 ..............................................\n",
            "[CV] .................. C=10, gamma=0.0001, score=0.742, total=   0.0s\n",
            "[CV] C=10, gamma=0.0001 ..............................................\n",
            "[CV] .................. C=10, gamma=0.0001, score=0.742, total=   0.0s\n",
            "[CV] C=100, gamma=1 ..................................................\n",
            "[CV] ...................... C=100, gamma=1, score=0.875, total=   0.0s\n",
            "[CV] C=100, gamma=1 ..................................................\n",
            "[CV] ...................... C=100, gamma=1, score=0.968, total=   0.0s\n",
            "[CV] C=100, gamma=1 ..................................................\n",
            "[CV] ...................... C=100, gamma=1, score=0.968, total=   0.0s\n",
            "[CV] C=100, gamma=1 ..................................................\n",
            "[CV] ...................... C=100, gamma=1, score=0.968, total=   0.0s\n",
            "[CV] C=100, gamma=1 ..................................................\n",
            "[CV] ...................... C=100, gamma=1, score=0.968, total=   0.0s\n",
            "[CV] C=100, gamma=0.1 ................................................\n",
            "[CV] .................... C=100, gamma=0.1, score=0.938, total=   0.0s\n",
            "[CV] C=100, gamma=0.1 ................................................\n",
            "[CV] .................... C=100, gamma=0.1, score=0.871, total=   0.0s\n",
            "[CV] C=100, gamma=0.1 ................................................\n",
            "[CV] .................... C=100, gamma=0.1, score=0.903, total=   0.0s\n",
            "[CV] C=100, gamma=0.1 ................................................\n",
            "[CV] .................... C=100, gamma=0.1, score=0.903, total=   0.0s\n",
            "[CV] C=100, gamma=0.1 ................................................\n",
            "[CV] .................... C=100, gamma=0.1, score=0.839, total=   0.0s\n",
            "[CV] C=100, gamma=0.01 ...............................................\n",
            "[CV] ................... C=100, gamma=0.01, score=0.938, total=   0.0s\n",
            "[CV] C=100, gamma=0.01 ...............................................\n",
            "[CV] ................... C=100, gamma=0.01, score=0.871, total=   0.0s\n",
            "[CV] C=100, gamma=0.01 ...............................................\n",
            "[CV] ................... C=100, gamma=0.01, score=0.871, total=   0.0s\n",
            "[CV] C=100, gamma=0.01 ...............................................\n",
            "[CV] ................... C=100, gamma=0.01, score=0.903, total=   0.0s\n",
            "[CV] C=100, gamma=0.01 ...............................................\n",
            "[CV] ................... C=100, gamma=0.01, score=0.871, total=   0.0s\n",
            "[CV] C=100, gamma=0.001 ..............................................\n",
            "[CV] .................. C=100, gamma=0.001, score=0.938, total=   0.0s\n",
            "[CV] C=100, gamma=0.001 ..............................................\n",
            "[CV] .................. C=100, gamma=0.001, score=0.903, total=   0.0s\n",
            "[CV] C=100, gamma=0.001 ..............................................\n",
            "[CV] .................. C=100, gamma=0.001, score=0.871, total=   0.0s\n",
            "[CV] C=100, gamma=0.001 ..............................................\n",
            "[CV] .................. C=100, gamma=0.001, score=0.871, total=   0.0s\n",
            "[CV] C=100, gamma=0.001 ..............................................\n",
            "[CV] .................. C=100, gamma=0.001, score=0.871, total=   0.0s\n",
            "[CV] C=100, gamma=0.0001 .............................................\n",
            "[CV] ................. C=100, gamma=0.0001, score=0.750, total=   0.0s\n",
            "[CV] C=100, gamma=0.0001 .............................................\n",
            "[CV] ................. C=100, gamma=0.0001, score=0.774, total=   0.0s\n",
            "[CV] C=100, gamma=0.0001 .............................................\n",
            "[CV] ................. C=100, gamma=0.0001, score=0.774, total=   0.0s\n",
            "[CV] C=100, gamma=0.0001 .............................................\n",
            "[CV] ................. C=100, gamma=0.0001, score=0.742, total=   0.0s\n",
            "[CV] C=100, gamma=0.0001 .............................................\n",
            "[CV] ................. C=100, gamma=0.0001, score=0.742, total=   0.0s\n",
            "[CV] C=1000, gamma=1 .................................................\n",
            "[CV] ..................... C=1000, gamma=1, score=0.875, total=   0.0s\n",
            "[CV] C=1000, gamma=1 .................................................\n",
            "[CV] ..................... C=1000, gamma=1, score=0.968, total=   0.0s\n",
            "[CV] C=1000, gamma=1 .................................................\n",
            "[CV] ..................... C=1000, gamma=1, score=0.968, total=   0.0s\n",
            "[CV] C=1000, gamma=1 .................................................\n",
            "[CV] ..................... C=1000, gamma=1, score=0.968, total=   0.0s\n",
            "[CV] C=1000, gamma=1 .................................................\n",
            "[CV] ..................... C=1000, gamma=1, score=0.968, total=   0.0s\n",
            "[CV] C=1000, gamma=0.1 ...............................................\n",
            "[CV] ................... C=1000, gamma=0.1, score=0.906, total=   0.0s\n",
            "[CV] C=1000, gamma=0.1 ...............................................\n",
            "[CV] ................... C=1000, gamma=0.1, score=0.871, total=   0.0s\n",
            "[CV] C=1000, gamma=0.1 ...............................................\n",
            "[CV] ................... C=1000, gamma=0.1, score=0.839, total=   0.0s\n",
            "[CV] C=1000, gamma=0.1 ...............................................\n",
            "[CV] ................... C=1000, gamma=0.1, score=0.935, total=   0.0s\n",
            "[CV] C=1000, gamma=0.1 ...............................................\n",
            "[CV] ................... C=1000, gamma=0.1, score=0.839, total=   0.0s\n",
            "[CV] C=1000, gamma=0.01 ..............................................\n",
            "[CV] .................. C=1000, gamma=0.01, score=0.938, total=   0.0s\n",
            "[CV] C=1000, gamma=0.01 ..............................................\n",
            "[CV] .................. C=1000, gamma=0.01, score=0.903, total=   0.0s\n",
            "[CV] C=1000, gamma=0.01 ..............................................\n",
            "[CV] .................. C=1000, gamma=0.01, score=0.871, total=   0.0s\n",
            "[CV] C=1000, gamma=0.01 ..............................................\n",
            "[CV] .................. C=1000, gamma=0.01, score=0.935, total=   0.0s\n",
            "[CV] C=1000, gamma=0.01 ..............................................\n",
            "[CV] .................. C=1000, gamma=0.01, score=0.839, total=   0.0s\n",
            "[CV] C=1000, gamma=0.001 .............................................\n",
            "[CV] ................. C=1000, gamma=0.001, score=0.938, total=   0.0s\n",
            "[CV] C=1000, gamma=0.001 .............................................\n",
            "[CV] ................. C=1000, gamma=0.001, score=0.871, total=   0.0s\n",
            "[CV] C=1000, gamma=0.001 .............................................\n",
            "[CV] ................. C=1000, gamma=0.001, score=0.871, total=   0.0s\n",
            "[CV] C=1000, gamma=0.001 .............................................\n",
            "[CV] ................. C=1000, gamma=0.001, score=0.903, total=   0.0s\n",
            "[CV] C=1000, gamma=0.001 .............................................\n",
            "[CV] ................. C=1000, gamma=0.001, score=0.871, total=   0.0s\n",
            "[CV] C=1000, gamma=0.0001 ............................................\n",
            "[CV] ................ C=1000, gamma=0.0001, score=0.938, total=   0.0s\n",
            "[CV] C=1000, gamma=0.0001 ............................................\n",
            "[CV] ................ C=1000, gamma=0.0001, score=0.903, total=   0.0s\n",
            "[CV] C=1000, gamma=0.0001 ............................................\n",
            "[CV] ................ C=1000, gamma=0.0001, score=0.871, total=   0.0s\n",
            "[CV] C=1000, gamma=0.0001 ............................................\n",
            "[CV] ................ C=1000, gamma=0.0001, score=0.871, total=   0.0s\n",
            "[CV] C=1000, gamma=0.0001 ............................................\n",
            "[CV] ................ C=1000, gamma=0.0001, score=0.871, total=   0.0s\n"
          ],
          "name": "stdout"
        },
        {
          "output_type": "stream",
          "text": [
            "[Parallel(n_jobs=1)]: Done 125 out of 125 | elapsed:    0.6s finished\n"
          ],
          "name": "stderr"
        },
        {
          "output_type": "execute_result",
          "data": {
            "text/plain": [
              "GridSearchCV(cv=None, error_score=nan,\n",
              "             estimator=SVC(C=1.0, break_ties=False, cache_size=200,\n",
              "                           class_weight=None, coef0=0.0,\n",
              "                           decision_function_shape='ovr', degree=3,\n",
              "                           gamma='scale', kernel='rbf', max_iter=-1,\n",
              "                           probability=False, random_state=None, shrinking=True,\n",
              "                           tol=0.001, verbose=False),\n",
              "             iid='deprecated', n_jobs=None,\n",
              "             param_grid={'C': [0.1, 1, 10, 100, 1000],\n",
              "                         'gamma': [1, 0.1, 0.01, 0.001, 0.0001]},\n",
              "             pre_dispatch='2*n_jobs', refit=True, return_train_score=False,\n",
              "             scoring=None, verbose=3)"
            ]
          },
          "metadata": {
            "tags": []
          },
          "execution_count": 34
        }
      ]
    },
    {
      "cell_type": "code",
      "metadata": {
        "colab": {
          "base_uri": "https://localhost:8080/"
        },
        "id": "kqDW3nESt1gv",
        "outputId": "2b911698-440b-4690-aa31-dd4992443215"
      },
      "source": [
        "  grid.best_params_"
      ],
      "execution_count": null,
      "outputs": [
        {
          "output_type": "execute_result",
          "data": {
            "text/plain": [
              "{'C': 10, 'gamma': 1}"
            ]
          },
          "metadata": {
            "tags": []
          },
          "execution_count": 35
        }
      ]
    },
    {
      "cell_type": "code",
      "metadata": {
        "colab": {
          "base_uri": "https://localhost:8080/"
        },
        "id": "iC59jrhPt78l",
        "outputId": "a79a3997-3fb3-4ab7-d32b-47e153370714"
      },
      "source": [
        "svm_model = SVC(kernel='rbf', random_state=0, C=10, gamma=1)\n",
        "svm_model.fit(x_train,y_train)"
      ],
      "execution_count": null,
      "outputs": [
        {
          "output_type": "execute_result",
          "data": {
            "text/plain": [
              "SVC(C=10, break_ties=False, cache_size=200, class_weight=None, coef0=0.0,\n",
              "    decision_function_shape='ovr', degree=3, gamma=1, kernel='rbf', max_iter=-1,\n",
              "    probability=False, random_state=0, shrinking=True, tol=0.001,\n",
              "    verbose=False)"
            ]
          },
          "metadata": {
            "tags": []
          },
          "execution_count": 36
        }
      ]
    },
    {
      "cell_type": "code",
      "metadata": {
        "id": "YdFDD3XMt9r_"
      },
      "source": [
        "svm_preds = svm_model.predict(x_test)"
      ],
      "execution_count": null,
      "outputs": []
    },
    {
      "cell_type": "code",
      "metadata": {
        "colab": {
          "base_uri": "https://localhost:8080/"
        },
        "id": "HkS4j9D-uBXj",
        "outputId": "009f30f7-13df-4a62-ce00-3fafbb46a759"
      },
      "source": [
        "from sklearn import metrics\n",
        "# Creating the confusion matrix\n",
        "cm = metrics.confusion_matrix(y_test, logistic_preds )\n",
        "# Assigning columns names\n",
        "cm_df = pd.DataFrame(cm, \n",
        "            columns = ['Predicted Negative', 'Predicted Positive'],\n",
        "            index = ['Actual Negative', 'Actual Positive'])\n",
        "\n",
        "# Showing the confusion matrix\n",
        "print(cm_df)\n",
        "\n",
        "TP = cm[1,1] # true positive \n",
        "TN = cm[0,0] # true negatives\n",
        "FP = cm[0,1] # false positives\n",
        "FN = cm[1,0] # false negatives\n",
        "print('hi')\n",
        "\n",
        "print('True Positives:', TP)\n",
        "print('True Negatives:', TN)\n",
        "print('False Positives:', FP)\n",
        "print('False Negatives:', FN)\n",
        "# calculate accuracy\n",
        "conf_accuracy = (float (TP+TN) / float(TP + TN + FP + FN))\n",
        "    \n",
        "    # calculate mis-classification\n",
        "conf_misclassification = 1- conf_accuracy\n",
        "    \n",
        "    # calculate the sensitivity\n",
        "conf_sensitivity = (TP / float(TP + FN))\n",
        "    # calculate the specificity\n",
        "conf_specificity = (TN / float(TN + FP))\n",
        "    \n",
        "    # calculate precision\n",
        "conf_precision = (TN / float(TN + FP))\n",
        "    # calculate f_1 score\n",
        "conf_f1 = 2 * ((conf_precision * conf_sensitivity) / (conf_precision + conf_sensitivity))\n",
        "    \n",
        "    \n",
        "print('-'*50)\n",
        "print(f'Accuracy: {round(conf_accuracy,2)}') \n",
        "print(f'Mis-Classification: {round(conf_misclassification,2)}') \n",
        "print(f'Sensitivity: {round(conf_sensitivity,2)}') \n",
        "print(f'Specificity: {round(conf_specificity,2)}') \n",
        "print(f'Precision: {round(conf_precision,2)}')\n",
        "print(f'f_1 Score: {round(conf_f1,2)}')\n"
      ],
      "execution_count": null,
      "outputs": [
        {
          "output_type": "stream",
          "text": [
            "                 Predicted Negative  Predicted Positive\n",
            "Actual Negative                   4                   6\n",
            "Actual Positive                   1                  28\n",
            "hi\n",
            "True Positives: 28\n",
            "True Negatives: 4\n",
            "False Positives: 6\n",
            "False Negatives: 1\n",
            "--------------------------------------------------\n",
            "Accuracy: 0.82\n",
            "Mis-Classification: 0.18\n",
            "Sensitivity: 0.97\n",
            "Specificity: 0.4\n",
            "Precision: 0.4\n",
            "f_1 Score: 0.57\n"
          ],
          "name": "stdout"
        }
      ]
    },
    {
      "cell_type": "code",
      "metadata": {
        "id": "K3ok3WNTuFwi"
      },
      "source": [
        "#@title DecisionTreeClassifier\n"
      ],
      "execution_count": null,
      "outputs": []
    },
    {
      "cell_type": "code",
      "metadata": {
        "colab": {
          "base_uri": "https://localhost:8080/"
        },
        "id": "JwE93K9ruLb5",
        "outputId": "0a862f22-3919-45db-f399-ffdb042a4921"
      },
      "source": [
        "from sklearn.tree import DecisionTreeClassifier\n",
        "tree = DecisionTreeClassifier(criterion=\"entropy\")\n",
        "tree.fit(x_train,y_train)"
      ],
      "execution_count": null,
      "outputs": [
        {
          "output_type": "execute_result",
          "data": {
            "text/plain": [
              "DecisionTreeClassifier(ccp_alpha=0.0, class_weight=None, criterion='entropy',\n",
              "                       max_depth=None, max_features=None, max_leaf_nodes=None,\n",
              "                       min_impurity_decrease=0.0, min_impurity_split=None,\n",
              "                       min_samples_leaf=1, min_samples_split=2,\n",
              "                       min_weight_fraction_leaf=0.0, presort='deprecated',\n",
              "                       random_state=None, splitter='best')"
            ]
          },
          "metadata": {
            "tags": []
          },
          "execution_count": 39
        }
      ]
    },
    {
      "cell_type": "code",
      "metadata": {
        "id": "UqDMWEcxuOC7"
      },
      "source": [
        "tree_preds = tree.predict(x_test)"
      ],
      "execution_count": null,
      "outputs": []
    },
    {
      "cell_type": "code",
      "metadata": {
        "colab": {
          "base_uri": "https://localhost:8080/"
        },
        "id": "zGNzMgeauQas",
        "outputId": "9812694e-947e-4c55-f2c3-7d7c06a5f0d0"
      },
      "source": [
        "from sklearn import metrics\n",
        "# Creating the confusion matrix\n",
        "cm = metrics.confusion_matrix(y_test, logistic_preds )\n",
        "# Assigning columns names\n",
        "cm_df = pd.DataFrame(cm, \n",
        "            columns = ['Predicted Negative', 'Predicted Positive'],\n",
        "            index = ['Actual Negative', 'Actual Positive'])\n",
        "\n",
        "# Showing the confusion matrix\n",
        "print(cm_df)\n",
        "\n",
        "TP = cm[1,1] # true positive \n",
        "TN = cm[0,0] # true negatives\n",
        "FP = cm[0,1] # false positives\n",
        "FN = cm[1,0] # false negatives\n",
        "print('hi')\n",
        "\n",
        "print('True Positives:', TP)\n",
        "print('True Negatives:', TN)\n",
        "print('False Positives:', FP)\n",
        "print('False Negatives:', FN)\n",
        "# calculate accuracy\n",
        "conf_accuracy = (float (TP+TN) / float(TP + TN + FP + FN))\n",
        "    \n",
        "    # calculate mis-classification\n",
        "conf_misclassification = 1- conf_accuracy\n",
        "    \n",
        "    # calculate the sensitivity\n",
        "conf_sensitivity = (TP / float(TP + FN))\n",
        "    # calculate the specificity\n",
        "conf_specificity = (TN / float(TN + FP))\n",
        "    \n",
        "    # calculate precision\n",
        "conf_precision = (TN / float(TN + FP))\n",
        "    # calculate f_1 score\n",
        "conf_f1 = 2 * ((conf_precision * conf_sensitivity) / (conf_precision + conf_sensitivity))\n",
        "    \n",
        "    \n",
        "print('-'*50)\n",
        "print(f'Accuracy: {round(conf_accuracy,2)}') \n",
        "print(f'Mis-Classification: {round(conf_misclassification,2)}') \n",
        "print(f'Sensitivity: {round(conf_sensitivity,2)}') \n",
        "print(f'Specificity: {round(conf_specificity,2)}') \n",
        "print(f'Precision: {round(conf_precision,2)}')\n",
        "print(f'f_1 Score: {round(conf_f1,2)}')\n"
      ],
      "execution_count": null,
      "outputs": [
        {
          "output_type": "stream",
          "text": [
            "                 Predicted Negative  Predicted Positive\n",
            "Actual Negative                   4                   6\n",
            "Actual Positive                   1                  28\n",
            "hi\n",
            "True Positives: 28\n",
            "True Negatives: 4\n",
            "False Positives: 6\n",
            "False Negatives: 1\n",
            "--------------------------------------------------\n",
            "Accuracy: 0.82\n",
            "Mis-Classification: 0.18\n",
            "Sensitivity: 0.97\n",
            "Specificity: 0.4\n",
            "Precision: 0.4\n",
            "f_1 Score: 0.57\n"
          ],
          "name": "stdout"
        }
      ]
    },
    {
      "cell_type": "code",
      "metadata": {
        "id": "7clqgJPeuUCO"
      },
      "source": [
        "names = [\"ExtraTreesClassifier\",\"LogisticRegression\",\"KNeighborsClassifier\",\"RandomForest\",\"Linear_SVM\",\"RBF_SVM\",\"DecisionTreeClassifier\"]\n",
        "\n",
        "scores=[0.95,\n",
        "       0.82,\n",
        "       0.97,\n",
        "       0.95,\n",
        "       0.85,\n",
        "       0.82,\n",
        "       0.82]"
      ],
      "execution_count": null,
      "outputs": []
    },
    {
      "cell_type": "code",
      "metadata": {
        "id": "e8IUguYNua0e"
      },
      "source": [
        "import pandas as pd\n",
        "import seaborn as sns"
      ],
      "execution_count": null,
      "outputs": []
    },
    {
      "cell_type": "code",
      "metadata": {
        "colab": {
          "base_uri": "https://localhost:8080/",
          "height": 266
        },
        "id": "fBZYMX7Luc8T",
        "outputId": "66216713-95cc-4491-d5d8-b85278e2d2c4"
      },
      "source": [
        "df = pd.DataFrame()\n",
        "df['name'] = names\n",
        "df['score'] = scores\n",
        "df"
      ],
      "execution_count": null,
      "outputs": [
        {
          "output_type": "execute_result",
          "data": {
            "text/html": [
              "<div>\n",
              "<style scoped>\n",
              "    .dataframe tbody tr th:only-of-type {\n",
              "        vertical-align: middle;\n",
              "    }\n",
              "\n",
              "    .dataframe tbody tr th {\n",
              "        vertical-align: top;\n",
              "    }\n",
              "\n",
              "    .dataframe thead th {\n",
              "        text-align: right;\n",
              "    }\n",
              "</style>\n",
              "<table border=\"1\" class=\"dataframe\">\n",
              "  <thead>\n",
              "    <tr style=\"text-align: right;\">\n",
              "      <th></th>\n",
              "      <th>name</th>\n",
              "      <th>score</th>\n",
              "    </tr>\n",
              "  </thead>\n",
              "  <tbody>\n",
              "    <tr>\n",
              "      <th>0</th>\n",
              "      <td>ExtraTreesClassifier</td>\n",
              "      <td>0.95</td>\n",
              "    </tr>\n",
              "    <tr>\n",
              "      <th>1</th>\n",
              "      <td>LogisticRegression</td>\n",
              "      <td>0.82</td>\n",
              "    </tr>\n",
              "    <tr>\n",
              "      <th>2</th>\n",
              "      <td>KNeighborsClassifier</td>\n",
              "      <td>0.97</td>\n",
              "    </tr>\n",
              "    <tr>\n",
              "      <th>3</th>\n",
              "      <td>RandomForest</td>\n",
              "      <td>0.95</td>\n",
              "    </tr>\n",
              "    <tr>\n",
              "      <th>4</th>\n",
              "      <td>Linear_SVM</td>\n",
              "      <td>0.85</td>\n",
              "    </tr>\n",
              "    <tr>\n",
              "      <th>5</th>\n",
              "      <td>RBF_SVM</td>\n",
              "      <td>0.82</td>\n",
              "    </tr>\n",
              "    <tr>\n",
              "      <th>6</th>\n",
              "      <td>DecisionTreeClassifier</td>\n",
              "      <td>0.82</td>\n",
              "    </tr>\n",
              "  </tbody>\n",
              "</table>\n",
              "</div>"
            ],
            "text/plain": [
              "                     name  score\n",
              "0    ExtraTreesClassifier   0.95\n",
              "1      LogisticRegression   0.82\n",
              "2    KNeighborsClassifier   0.97\n",
              "3            RandomForest   0.95\n",
              "4              Linear_SVM   0.85\n",
              "5                 RBF_SVM   0.82\n",
              "6  DecisionTreeClassifier   0.82"
            ]
          },
          "metadata": {
            "tags": []
          },
          "execution_count": 44
        }
      ]
    },
    {
      "cell_type": "code",
      "metadata": {
        "colab": {
          "base_uri": "https://localhost:8080/",
          "height": 187
        },
        "id": "d3lpSiuPueoc",
        "outputId": "e1c6f119-276c-4f47-84c6-cc53a11491de"
      },
      "source": [
        "cm = sns.light_palette(\"green\", as_cmap=True)\n",
        "s = df.style.background_gradient(cmap=cm)\n",
        "s"
      ],
      "execution_count": null,
      "outputs": [
        {
          "output_type": "execute_result",
          "data": {
            "text/html": [
              "<style  type=\"text/css\" >\n",
              "#T_08909bf0_8d74_11eb_9a2e_0242ac1c0002row0_col1,#T_08909bf0_8d74_11eb_9a2e_0242ac1c0002row3_col1{\n",
              "            background-color:  #1f8f1f;\n",
              "            color:  #000000;\n",
              "        }#T_08909bf0_8d74_11eb_9a2e_0242ac1c0002row1_col1,#T_08909bf0_8d74_11eb_9a2e_0242ac1c0002row5_col1,#T_08909bf0_8d74_11eb_9a2e_0242ac1c0002row6_col1{\n",
              "            background-color:  #ebf3eb;\n",
              "            color:  #000000;\n",
              "        }#T_08909bf0_8d74_11eb_9a2e_0242ac1c0002row2_col1{\n",
              "            background-color:  #008000;\n",
              "            color:  #f1f1f1;\n",
              "        }#T_08909bf0_8d74_11eb_9a2e_0242ac1c0002row4_col1{\n",
              "            background-color:  #bcdcbc;\n",
              "            color:  #000000;\n",
              "        }</style><table id=\"T_08909bf0_8d74_11eb_9a2e_0242ac1c0002\" ><thead>    <tr>        <th class=\"blank level0\" ></th>        <th class=\"col_heading level0 col0\" >name</th>        <th class=\"col_heading level0 col1\" >score</th>    </tr></thead><tbody>\n",
              "                <tr>\n",
              "                        <th id=\"T_08909bf0_8d74_11eb_9a2e_0242ac1c0002level0_row0\" class=\"row_heading level0 row0\" >0</th>\n",
              "                        <td id=\"T_08909bf0_8d74_11eb_9a2e_0242ac1c0002row0_col0\" class=\"data row0 col0\" >ExtraTreesClassifier</td>\n",
              "                        <td id=\"T_08909bf0_8d74_11eb_9a2e_0242ac1c0002row0_col1\" class=\"data row0 col1\" >0.950000</td>\n",
              "            </tr>\n",
              "            <tr>\n",
              "                        <th id=\"T_08909bf0_8d74_11eb_9a2e_0242ac1c0002level0_row1\" class=\"row_heading level0 row1\" >1</th>\n",
              "                        <td id=\"T_08909bf0_8d74_11eb_9a2e_0242ac1c0002row1_col0\" class=\"data row1 col0\" >LogisticRegression</td>\n",
              "                        <td id=\"T_08909bf0_8d74_11eb_9a2e_0242ac1c0002row1_col1\" class=\"data row1 col1\" >0.820000</td>\n",
              "            </tr>\n",
              "            <tr>\n",
              "                        <th id=\"T_08909bf0_8d74_11eb_9a2e_0242ac1c0002level0_row2\" class=\"row_heading level0 row2\" >2</th>\n",
              "                        <td id=\"T_08909bf0_8d74_11eb_9a2e_0242ac1c0002row2_col0\" class=\"data row2 col0\" >KNeighborsClassifier</td>\n",
              "                        <td id=\"T_08909bf0_8d74_11eb_9a2e_0242ac1c0002row2_col1\" class=\"data row2 col1\" >0.970000</td>\n",
              "            </tr>\n",
              "            <tr>\n",
              "                        <th id=\"T_08909bf0_8d74_11eb_9a2e_0242ac1c0002level0_row3\" class=\"row_heading level0 row3\" >3</th>\n",
              "                        <td id=\"T_08909bf0_8d74_11eb_9a2e_0242ac1c0002row3_col0\" class=\"data row3 col0\" >RandomForest</td>\n",
              "                        <td id=\"T_08909bf0_8d74_11eb_9a2e_0242ac1c0002row3_col1\" class=\"data row3 col1\" >0.950000</td>\n",
              "            </tr>\n",
              "            <tr>\n",
              "                        <th id=\"T_08909bf0_8d74_11eb_9a2e_0242ac1c0002level0_row4\" class=\"row_heading level0 row4\" >4</th>\n",
              "                        <td id=\"T_08909bf0_8d74_11eb_9a2e_0242ac1c0002row4_col0\" class=\"data row4 col0\" >Linear_SVM</td>\n",
              "                        <td id=\"T_08909bf0_8d74_11eb_9a2e_0242ac1c0002row4_col1\" class=\"data row4 col1\" >0.850000</td>\n",
              "            </tr>\n",
              "            <tr>\n",
              "                        <th id=\"T_08909bf0_8d74_11eb_9a2e_0242ac1c0002level0_row5\" class=\"row_heading level0 row5\" >5</th>\n",
              "                        <td id=\"T_08909bf0_8d74_11eb_9a2e_0242ac1c0002row5_col0\" class=\"data row5 col0\" >RBF_SVM</td>\n",
              "                        <td id=\"T_08909bf0_8d74_11eb_9a2e_0242ac1c0002row5_col1\" class=\"data row5 col1\" >0.820000</td>\n",
              "            </tr>\n",
              "            <tr>\n",
              "                        <th id=\"T_08909bf0_8d74_11eb_9a2e_0242ac1c0002level0_row6\" class=\"row_heading level0 row6\" >6</th>\n",
              "                        <td id=\"T_08909bf0_8d74_11eb_9a2e_0242ac1c0002row6_col0\" class=\"data row6 col0\" >DecisionTreeClassifier</td>\n",
              "                        <td id=\"T_08909bf0_8d74_11eb_9a2e_0242ac1c0002row6_col1\" class=\"data row6 col1\" >0.820000</td>\n",
              "            </tr>\n",
              "    </tbody></table>"
            ],
            "text/plain": [
              "<pandas.io.formats.style.Styler at 0x7fc6df73b8d0>"
            ]
          },
          "metadata": {
            "tags": []
          },
          "execution_count": 45
        }
      ]
    },
    {
      "cell_type": "code",
      "metadata": {
        "colab": {
          "base_uri": "https://localhost:8080/",
          "height": 285
        },
        "id": "MpO21Hi7uhHw",
        "outputId": "a54c6846-9835-47c6-d307-41eea1203d48"
      },
      "source": [
        "\n",
        "sns.set(style=\"whitegrid\")\n",
        "ax = sns.barplot(y=\"name\", x=\"score\", data=df)"
      ],
      "execution_count": null,
      "outputs": [
        {
          "output_type": "display_data",
          "data": {
            "image/png": "[encoded data removed]",
            "text/plain": [
              "<Figure size 432x288 with 1 Axes>"
            ]
          },
          "metadata": {
            "tags": []
          }
        }
      ]
    },
    {
      "cell_type": "code",
      "metadata": {
        "id": "BLeREvsFujuw"
      },
      "source": [
        ""
      ],
      "execution_count": null,
      "outputs": []
    }
  ]
}